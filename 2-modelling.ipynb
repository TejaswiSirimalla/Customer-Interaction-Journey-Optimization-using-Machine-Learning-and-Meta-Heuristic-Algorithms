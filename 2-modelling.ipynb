{
 "cells": [
  {
   "cell_type": "code",
   "execution_count": 1,
   "id": "56b822c5",
   "metadata": {
    "execution": {
     "iopub.execute_input": "2025-07-17T22:58:49.605529Z",
     "iopub.status.busy": "2025-07-17T22:58:49.605143Z",
     "iopub.status.idle": "2025-07-17T22:58:54.378821Z",
     "shell.execute_reply": "2025-07-17T22:58:54.377530Z"
    },
    "papermill": {
     "duration": 4.79148,
     "end_time": "2025-07-17T22:58:54.381089",
     "exception": false,
     "start_time": "2025-07-17T22:58:49.589609",
     "status": "completed"
    },
    "tags": []
   },
   "outputs": [],
   "source": [
    "import pandas as pd\n",
    "import numpy as np\n",
    "from sklearn.preprocessing import OneHotEncoder, StandardScaler\n",
    "from sklearn.model_selection import train_test_split, GridSearchCV\n",
    "from sklearn.ensemble import RandomForestRegressor\n",
    "from sklearn.metrics import mean_absolute_error, mean_squared_error\n",
    "from sklearn.pipeline import Pipeline\n",
    "import joblib\n",
    "from warnings import filterwarnings\n",
    "import random\n",
    "random.seed(0)\n",
    "filterwarnings(action = \"ignore\")"
   ]
  },
  {
   "cell_type": "code",
   "execution_count": 2,
   "id": "9f50f420",
   "metadata": {
    "execution": {
     "iopub.execute_input": "2025-07-17T22:58:54.407801Z",
     "iopub.status.busy": "2025-07-17T22:58:54.407264Z",
     "iopub.status.idle": "2025-07-17T22:58:54.898453Z",
     "shell.execute_reply": "2025-07-17T22:58:54.897429Z"
    },
    "papermill": {
     "duration": 0.506113,
     "end_time": "2025-07-17T22:58:54.900335",
     "exception": false,
     "start_time": "2025-07-17T22:58:54.394222",
     "status": "completed"
    },
    "tags": []
   },
   "outputs": [],
   "source": [
    "# df = pd.read_csv(\"./telco_with_probabilties_new.csv\")\n",
    "df = pd.read_csv(\"/kaggle/input/1-estimating-probabilities/Data_with_probabilities.csv\")"
   ]
  },
  {
   "cell_type": "markdown",
   "id": "1a36b5e9",
   "metadata": {
    "papermill": {
     "duration": 0.012211,
     "end_time": "2025-07-17T22:58:54.926121",
     "exception": false,
     "start_time": "2025-07-17T22:58:54.913910",
     "status": "completed"
    },
    "tags": []
   },
   "source": [
    "## 1. Data Exploration"
   ]
  },
  {
   "cell_type": "code",
   "execution_count": 3,
   "id": "1e21b172",
   "metadata": {
    "execution": {
     "iopub.execute_input": "2025-07-17T22:58:54.952089Z",
     "iopub.status.busy": "2025-07-17T22:58:54.951085Z",
     "iopub.status.idle": "2025-07-17T22:58:54.962276Z",
     "shell.execute_reply": "2025-07-17T22:58:54.961175Z"
    },
    "papermill": {
     "duration": 0.026188,
     "end_time": "2025-07-17T22:58:54.963923",
     "exception": false,
     "start_time": "2025-07-17T22:58:54.937735",
     "status": "completed"
    },
    "tags": []
   },
   "outputs": [
    {
     "data": {
      "text/plain": [
       "Index(['Customer ID', 'Gender', 'Age', 'Under 30', 'Senior Citizen', 'Married',\n",
       "       'Dependents', 'Number of Dependents', 'Country', 'State',\n",
       "       ...\n",
       "       'Z42', 'Z43', 'Z44', 'Z45', 'Z50', 'Z51', 'Z52', 'Z53', 'Z54', 'Z55'],\n",
       "      dtype='object', length=164)"
      ]
     },
     "execution_count": 3,
     "metadata": {},
     "output_type": "execute_result"
    }
   ],
   "source": [
    "df.columns"
   ]
  },
  {
   "cell_type": "code",
   "execution_count": 4,
   "id": "4057b1ca",
   "metadata": {
    "execution": {
     "iopub.execute_input": "2025-07-17T22:58:54.997805Z",
     "iopub.status.busy": "2025-07-17T22:58:54.996549Z",
     "iopub.status.idle": "2025-07-17T22:58:55.003922Z",
     "shell.execute_reply": "2025-07-17T22:58:55.002791Z"
    },
    "papermill": {
     "duration": 0.029419,
     "end_time": "2025-07-17T22:58:55.005460",
     "exception": false,
     "start_time": "2025-07-17T22:58:54.976041",
     "status": "completed"
    },
    "tags": []
   },
   "outputs": [
    {
     "data": {
      "text/plain": [
       "(7043, 164)"
      ]
     },
     "execution_count": 4,
     "metadata": {},
     "output_type": "execute_result"
    }
   ],
   "source": [
    "df.shape"
   ]
  },
  {
   "cell_type": "code",
   "execution_count": 5,
   "id": "c7e51da0",
   "metadata": {
    "execution": {
     "iopub.execute_input": "2025-07-17T22:58:55.030589Z",
     "iopub.status.busy": "2025-07-17T22:58:55.030301Z",
     "iopub.status.idle": "2025-07-17T22:58:55.066700Z",
     "shell.execute_reply": "2025-07-17T22:58:55.065678Z"
    },
    "papermill": {
     "duration": 0.051113,
     "end_time": "2025-07-17T22:58:55.068799",
     "exception": false,
     "start_time": "2025-07-17T22:58:55.017686",
     "status": "completed"
    },
    "tags": []
   },
   "outputs": [
    {
     "name": "stdout",
     "output_type": "stream",
     "text": [
      "<class 'pandas.core.frame.DataFrame'>\n",
      "RangeIndex: 7043 entries, 0 to 7042\n",
      "Columns: 164 entries, Customer ID to Z55\n",
      "dtypes: bool(1), float64(116), int64(16), object(31)\n",
      "memory usage: 8.8+ MB\n"
     ]
    }
   ],
   "source": [
    "df.info()"
   ]
  },
  {
   "cell_type": "markdown",
   "id": "58255395",
   "metadata": {
    "papermill": {
     "duration": 0.012365,
     "end_time": "2025-07-17T22:58:55.102012",
     "exception": false,
     "start_time": "2025-07-17T22:58:55.089647",
     "status": "completed"
    },
    "tags": []
   },
   "source": [
    "### 1.1. By exploring each of the columns, the initial impression classifies the input data features into the following numerical, categorical and ordinal features"
   ]
  },
  {
   "cell_type": "markdown",
   "id": "d0da7c05",
   "metadata": {
    "papermill": {
     "duration": 0.017698,
     "end_time": "2025-07-17T22:58:55.132679",
     "exception": false,
     "start_time": "2025-07-17T22:58:55.114981",
     "status": "completed"
    },
    "tags": []
   },
   "source": [
    "**Note**: analyzed the frequency of each feature using `df[f\"{feature_name}\"].value_counts()`"
   ]
  },
  {
   "cell_type": "code",
   "execution_count": 6,
   "id": "1a78ddc1",
   "metadata": {
    "execution": {
     "iopub.execute_input": "2025-07-17T22:58:55.161042Z",
     "iopub.status.busy": "2025-07-17T22:58:55.160296Z",
     "iopub.status.idle": "2025-07-17T22:58:55.175564Z",
     "shell.execute_reply": "2025-07-17T22:58:55.173662Z"
    },
    "papermill": {
     "duration": 0.03117,
     "end_time": "2025-07-17T22:58:55.177487",
     "exception": false,
     "start_time": "2025-07-17T22:58:55.146317",
     "status": "completed"
    },
    "tags": []
   },
   "outputs": [
    {
     "name": "stdout",
     "output_type": "stream",
     "text": [
      "164\n"
     ]
    }
   ],
   "source": [
    "numerical_features = [\n",
    "    'Age', 'Latitude', 'Longitude', 'Population', 'Tenure in Months', 'Avg Monthly Long Distance Charges',\n",
    "    'Avg Monthly GB Download', 'Monthly Charge', 'Total Charges', 'Total Refunds', 'Total Extra Data Charges',\n",
    "    'Total Long Distance Charges', 'Total Revenue', 'Churn Score', 'CLTV', \n",
    "    'Number of Dependents', 'Number of Referrals', \n",
    "    'p0', 'p1', 'p2', 'p3', 'p4', 'p5',\n",
    "    'X00', 'X01', 'X02', 'X03', 'X04', 'X05', 'X10', 'X20', 'X30', 'X40', 'X50', \n",
    "    'Y00', 'Y01', 'Y02', 'Y03', 'Y04', 'Y05', 'Y10', 'Y20', 'Y30', 'Y40', 'Y50', \n",
    "    'Z00', 'Z01', 'Z02', 'Z03', 'Z04', 'Z05', 'Z10', 'Z20', 'Z30', 'Z40', 'Z50',\n",
    "    'X11', 'X12', 'X13', 'X14', 'X15', 'X21', 'X22', 'X23', 'X24', 'X25', 'X31', 'X32', 'X33', 'X34', 'X35', 'X41', 'X42', 'X43', 'X44', 'X45', 'X51', 'X52', 'X53', 'X54', 'X55',\n",
    "    'Y11', 'Y12', 'Y13', 'Y14', 'Y15', 'Y21', 'Y22', 'Y23', 'Y24', 'Y25', 'Y31', 'Y32', 'Y33', 'Y34', 'Y35', 'Y41', 'Y42', 'Y43', 'Y44', 'Y45', 'Y51', 'Y52', 'Y53', 'Y54', 'Y55', \n",
    "    'Z11', 'Z12', 'Z13', 'Z14', 'Z15', 'Z21', 'Z22', 'Z23', 'Z24', 'Z25', 'Z31', 'Z32', 'Z33', 'Z34', 'Z35', 'Z41', 'Z42', 'Z43', 'Z44', 'Z45', 'Z51', 'Z52', 'Z53', 'Z54', 'Z55',\n",
    "    \"Zip Code\"\n",
    "]\n",
    "\n",
    "categorical_features = [\n",
    "    'Customer ID', \"Gender\", \"City\", \"State\", \"Country\", \"Quarter\", \"Churn Category\", \"Churn Reason\", \"Referred a Friend\", \"Internet Service\",\n",
    "    \"Offer\", \"Internet Type\", \"Payment Method\", \"Customer Status\", \"Churn Label\", \"Married\", \"Dependents\", \"Phone Service\", \"Multiple Lines\", \n",
    "    \"Unlimited Data\", \"Online Security\", \"Online Backup\", \"Under 30\", \"Senior Citizen\", \"Premium Tech Support\", \"Streaming TV\",\n",
    "    \"Streaming Movies\", \"Streaming Music\", \"Paperless Billing\", \"Device Protection Plan\"\n",
    "]\n",
    "\n",
    "ordinal_features = ['Contract', 'Satisfaction Score']\n",
    "\n",
    "print(len(set(numerical_features + categorical_features + ordinal_features)))"
   ]
  },
  {
   "cell_type": "markdown",
   "id": "780dffe9",
   "metadata": {
    "papermill": {
     "duration": 0.012491,
     "end_time": "2025-07-17T22:58:55.202717",
     "exception": false,
     "start_time": "2025-07-17T22:58:55.190226",
     "status": "completed"
    },
    "tags": []
   },
   "source": [
    "## 2. Data Wrangling"
   ]
  },
  {
   "cell_type": "markdown",
   "id": "97e7f9c5",
   "metadata": {
    "papermill": {
     "duration": 0.110482,
     "end_time": "2025-07-17T22:58:55.326071",
     "exception": false,
     "start_time": "2025-07-17T22:58:55.215589",
     "status": "completed"
    },
    "tags": []
   },
   "source": [
    "### 2.1. Dropping duplicates"
   ]
  },
  {
   "cell_type": "code",
   "execution_count": 7,
   "id": "ea79930f",
   "metadata": {
    "execution": {
     "iopub.execute_input": "2025-07-17T22:58:55.352503Z",
     "iopub.status.busy": "2025-07-17T22:58:55.352087Z",
     "iopub.status.idle": "2025-07-17T22:58:55.422901Z",
     "shell.execute_reply": "2025-07-17T22:58:55.421827Z"
    },
    "papermill": {
     "duration": 0.086394,
     "end_time": "2025-07-17T22:58:55.425028",
     "exception": false,
     "start_time": "2025-07-17T22:58:55.338634",
     "status": "completed"
    },
    "tags": []
   },
   "outputs": [
    {
     "data": {
      "text/plain": [
       "False"
      ]
     },
     "execution_count": 7,
     "metadata": {},
     "output_type": "execute_result"
    }
   ],
   "source": [
    "df.duplicated().any()"
   ]
  },
  {
   "cell_type": "markdown",
   "id": "30c13e86",
   "metadata": {
    "papermill": {
     "duration": 0.012217,
     "end_time": "2025-07-17T22:58:55.450544",
     "exception": false,
     "start_time": "2025-07-17T22:58:55.438327",
     "status": "completed"
    },
    "tags": []
   },
   "source": [
    "### 2.2. Transforming flag features into numerical features"
   ]
  },
  {
   "cell_type": "markdown",
   "id": "1d2dd356",
   "metadata": {
    "papermill": {
     "duration": 0.012055,
     "end_time": "2025-07-17T22:58:55.475665",
     "exception": false,
     "start_time": "2025-07-17T22:58:55.463610",
     "status": "completed"
    },
    "tags": []
   },
   "source": [
    "**observation**<br>\n",
    "Treating Flag features as Numerical features is a standard practice in Machine Learning, specifically for tree-based regression models. So, the following flag features will be translated into numerical features\n",
    "> 1. `Churn Label`\n",
    "> 2. `Dependents`\n",
    "> 3. `Device Protection Plan`\n",
    "> 4. `Internet Service`\n",
    "> 5. `Married`\n",
    "> 6. `Multiple Lines`\n",
    "> 7. `Online Backup`\n",
    "> 8. `Online Security`\n",
    "> 9. `Paperless Billing`\n",
    "> 10. `Phone Service`\n",
    "> 11. `Premium Tech Support`\n",
    "> 12. `Referred a Friend`\n",
    "> 13. `Senior Citizen`\n",
    "> 14. `Streaming Movies`\n",
    "> 15. `Streaming Music`\n",
    "> 16. `Streaming TV`\n",
    "> 17. `Under 30`\n",
    "> 18. `Unlimited Data`"
   ]
  },
  {
   "cell_type": "code",
   "execution_count": 8,
   "id": "7c47836f",
   "metadata": {
    "execution": {
     "iopub.execute_input": "2025-07-17T22:58:55.502727Z",
     "iopub.status.busy": "2025-07-17T22:58:55.502349Z",
     "iopub.status.idle": "2025-07-17T22:58:55.517066Z",
     "shell.execute_reply": "2025-07-17T22:58:55.516069Z"
    },
    "papermill": {
     "duration": 0.030622,
     "end_time": "2025-07-17T22:58:55.518998",
     "exception": false,
     "start_time": "2025-07-17T22:58:55.488376",
     "status": "completed"
    },
    "tags": []
   },
   "outputs": [],
   "source": [
    "for feature in ['Churn Label', 'Dependents', 'Device Protection Plan', 'Internet Service', \n",
    "                'Married', 'Multiple Lines', 'Online Backup', 'Online Security', \n",
    "                'Paperless Billing', 'Phone Service', 'Premium Tech Support', 'Referred a Friend', 'Senior Citizen', \n",
    "                'Streaming Movies', 'Streaming Music', 'Streaming TV', 'Under 30', 'Unlimited Data']:\n",
    "    if df[feature].isna().sum():\n",
    "        print(feature)"
   ]
  },
  {
   "cell_type": "markdown",
   "id": "e520f272",
   "metadata": {
    "papermill": {
     "duration": 0.013253,
     "end_time": "2025-07-17T22:58:55.549611",
     "exception": false,
     "start_time": "2025-07-17T22:58:55.536358",
     "status": "completed"
    },
    "tags": []
   },
   "source": [
    "So, none of the above features have missing values.<br>Transforming the above features into numerical features adhering to the standard practice"
   ]
  },
  {
   "cell_type": "code",
   "execution_count": 9,
   "id": "b9b2d5d8",
   "metadata": {
    "execution": {
     "iopub.execute_input": "2025-07-17T22:58:55.576607Z",
     "iopub.status.busy": "2025-07-17T22:58:55.575900Z",
     "iopub.status.idle": "2025-07-17T22:58:55.591114Z",
     "shell.execute_reply": "2025-07-17T22:58:55.590148Z"
    },
    "papermill": {
     "duration": 0.029871,
     "end_time": "2025-07-17T22:58:55.592731",
     "exception": false,
     "start_time": "2025-07-17T22:58:55.562860",
     "status": "completed"
    },
    "tags": []
   },
   "outputs": [
    {
     "data": {
      "text/plain": [
       "{'No', 'Yes'}"
      ]
     },
     "execution_count": 9,
     "metadata": {},
     "output_type": "execute_result"
    }
   ],
   "source": [
    "# finding the unique values from each of the features.\n",
    "values = []\n",
    "for feature in ['Churn Label', 'Dependents', 'Device Protection Plan', 'Internet Service', \n",
    "                'Married', 'Multiple Lines', 'Online Backup', 'Online Security', \n",
    "                'Paperless Billing', 'Phone Service', 'Premium Tech Support', 'Referred a Friend', 'Senior Citizen', \n",
    "                'Streaming Movies', 'Streaming Music', 'Streaming TV', 'Under 30', 'Unlimited Data']:\n",
    "    values.extend(list(set(df[feature].unique())))\n",
    "set(values)"
   ]
  },
  {
   "cell_type": "code",
   "execution_count": 10,
   "id": "e8a5b97d",
   "metadata": {
    "execution": {
     "iopub.execute_input": "2025-07-17T22:58:55.620165Z",
     "iopub.status.busy": "2025-07-17T22:58:55.619192Z",
     "iopub.status.idle": "2025-07-17T22:58:55.690819Z",
     "shell.execute_reply": "2025-07-17T22:58:55.689852Z"
    },
    "papermill": {
     "duration": 0.087409,
     "end_time": "2025-07-17T22:58:55.692525",
     "exception": false,
     "start_time": "2025-07-17T22:58:55.605116",
     "status": "completed"
    },
    "tags": []
   },
   "outputs": [],
   "source": [
    "for feature in ['Churn Label', 'Dependents', 'Device Protection Plan', 'Internet Service', \n",
    "                'Married', 'Multiple Lines', 'Online Backup', 'Online Security', 'Paperless Billing', 'Phone Service', \n",
    "                'Premium Tech Support', 'Referred a Friend', 'Senior Citizen', \n",
    "                'Streaming Movies', 'Streaming Music', 'Streaming TV', 'Under 30', 'Unlimited Data']:\n",
    "    df[feature] = df[feature].str.lower().map({'yes': 1, 'no': 0})"
   ]
  },
  {
   "cell_type": "markdown",
   "id": "496576da",
   "metadata": {
    "papermill": {
     "duration": 0.011839,
     "end_time": "2025-07-17T22:58:55.716579",
     "exception": false,
     "start_time": "2025-07-17T22:58:55.704740",
     "status": "completed"
    },
    "tags": []
   },
   "source": [
    "### 2.2. Revised classification of features into categorical, numerical and ordinal"
   ]
  },
  {
   "cell_type": "code",
   "execution_count": 11,
   "id": "cd60edb4",
   "metadata": {
    "execution": {
     "iopub.execute_input": "2025-07-17T22:58:55.742366Z",
     "iopub.status.busy": "2025-07-17T22:58:55.742055Z",
     "iopub.status.idle": "2025-07-17T22:58:55.751624Z",
     "shell.execute_reply": "2025-07-17T22:58:55.750412Z"
    },
    "papermill": {
     "duration": 0.024933,
     "end_time": "2025-07-17T22:58:55.753672",
     "exception": false,
     "start_time": "2025-07-17T22:58:55.728739",
     "status": "completed"
    },
    "tags": []
   },
   "outputs": [
    {
     "name": "stdout",
     "output_type": "stream",
     "text": [
      "164\n"
     ]
    }
   ],
   "source": [
    "numerical_features = [\n",
    "    'Age', 'Latitude', 'Longitude', 'Population', 'Tenure in Months', 'Avg Monthly Long Distance Charges',\n",
    "    'Avg Monthly GB Download', 'Monthly Charge', 'Total Charges', 'Total Refunds', 'Total Extra Data Charges',\n",
    "    'Total Long Distance Charges', 'Total Revenue', 'Churn Score', 'CLTV', \n",
    "    'Number of Dependents', 'Number of Referrals', \n",
    "    'p0', 'p1', 'p2', 'p3', 'p4', 'p5',\n",
    "    'X00', 'X01', 'X02', 'X03', 'X04', 'X05', 'X10', 'X20', 'X30', 'X40', 'X50', \n",
    "    'Y00', 'Y01', 'Y02', 'Y03', 'Y04', 'Y05', 'Y10', 'Y20', 'Y30', 'Y40', 'Y50', \n",
    "    'Z00', 'Z01', 'Z02', 'Z03', 'Z04', 'Z05', 'Z10', 'Z20', 'Z30', 'Z40', 'Z50',\n",
    "    'X11', 'X12', 'X13', 'X14', 'X15', 'X21', 'X22', 'X23', 'X24', 'X25', 'X31', 'X32', 'X33', 'X34', 'X35', 'X41', 'X42', 'X43', 'X44', 'X45', 'X51', 'X52', 'X53', 'X54', 'X55',\n",
    "    'Y11', 'Y12', 'Y13', 'Y14', 'Y15', 'Y21', 'Y22', 'Y23', 'Y24', 'Y25', 'Y31', 'Y32', 'Y33', 'Y34', 'Y35', 'Y41', 'Y42', 'Y43', 'Y44', 'Y45', 'Y51', 'Y52', 'Y53', 'Y54', 'Y55', \n",
    "    'Z11', 'Z12', 'Z13', 'Z14', 'Z15', 'Z21', 'Z22', 'Z23', 'Z24', 'Z25', 'Z31', 'Z32', 'Z33', 'Z34', 'Z35', 'Z41', 'Z42', 'Z43', 'Z44', 'Z45', 'Z51', 'Z52', 'Z53', 'Z54', 'Z55',\n",
    "    \"Zip Code\",\n",
    "    'Churn Label', 'Dependents', 'Device Protection Plan', 'Internet Service',  'Married', \n",
    "    'Multiple Lines', 'Online Backup', 'Online Security', 'Paperless Billing',\n",
    "    'Phone Service', 'Premium Tech Support', 'Referred a Friend', \n",
    "    'Senior Citizen', 'Streaming Movies', 'Streaming Music', 'Streaming TV', 'Under 30', 'Unlimited Data'\n",
    "]\n",
    "\n",
    "categorical_features = [\n",
    "    'Customer ID', 'Internet Type', 'Country', 'Offer', 'Payment Method', 'Gender', \n",
    "    'Customer Status', 'State', 'Quarter', 'City', 'Churn Category', 'Churn Reason']\n",
    "\n",
    "ordinal_features = ['Contract', 'Satisfaction Score']\n",
    "\n",
    "print(len(numerical_features + categorical_features + ordinal_features))"
   ]
  },
  {
   "cell_type": "markdown",
   "id": "bb329465",
   "metadata": {
    "papermill": {
     "duration": 0.012509,
     "end_time": "2025-07-17T22:58:55.788168",
     "exception": false,
     "start_time": "2025-07-17T22:58:55.775659",
     "status": "completed"
    },
    "tags": []
   },
   "source": [
    "### 2.3. Filling the missing entries"
   ]
  },
  {
   "cell_type": "code",
   "execution_count": 12,
   "id": "afc4ee3f",
   "metadata": {
    "execution": {
     "iopub.execute_input": "2025-07-17T22:58:55.814243Z",
     "iopub.status.busy": "2025-07-17T22:58:55.813935Z",
     "iopub.status.idle": "2025-07-17T22:58:55.951993Z",
     "shell.execute_reply": "2025-07-17T22:58:55.950820Z"
    },
    "papermill": {
     "duration": 0.153339,
     "end_time": "2025-07-17T22:58:55.953493",
     "exception": false,
     "start_time": "2025-07-17T22:58:55.800154",
     "status": "completed"
    },
    "tags": []
   },
   "outputs": [
    {
     "name": "stdout",
     "output_type": "stream",
     "text": [
      "Offer 3877\n",
      "Internet Type 1526\n",
      "Churn Category 5174\n",
      "Churn Reason 5174\n"
     ]
    }
   ],
   "source": [
    "for i in df.columns:\n",
    "    count_of_null_entries = df[i].isna().sum()\n",
    "    if count_of_null_entries:\n",
    "        print(i, count_of_null_entries)"
   ]
  },
  {
   "cell_type": "code",
   "execution_count": 13,
   "id": "cd591779",
   "metadata": {
    "execution": {
     "iopub.execute_input": "2025-07-17T22:58:55.979589Z",
     "iopub.status.busy": "2025-07-17T22:58:55.979129Z",
     "iopub.status.idle": "2025-07-17T22:58:55.991737Z",
     "shell.execute_reply": "2025-07-17T22:58:55.990648Z"
    },
    "papermill": {
     "duration": 0.02775,
     "end_time": "2025-07-17T22:58:55.993456",
     "exception": false,
     "start_time": "2025-07-17T22:58:55.965706",
     "status": "completed"
    },
    "tags": []
   },
   "outputs": [
    {
     "data": {
      "text/plain": [
       "Offer\n",
       "missing    3877\n",
       "Offer B     824\n",
       "Offer E     805\n",
       "Offer D     602\n",
       "Offer A     520\n",
       "Offer C     415\n",
       "Name: count, dtype: int64"
      ]
     },
     "execution_count": 13,
     "metadata": {},
     "output_type": "execute_result"
    }
   ],
   "source": [
    "df['Offer'].fillna('missing').value_counts()"
   ]
  },
  {
   "cell_type": "code",
   "execution_count": 14,
   "id": "751816df",
   "metadata": {
    "execution": {
     "iopub.execute_input": "2025-07-17T22:58:56.020355Z",
     "iopub.status.busy": "2025-07-17T22:58:56.019893Z",
     "iopub.status.idle": "2025-07-17T22:58:56.028261Z",
     "shell.execute_reply": "2025-07-17T22:58:56.027168Z"
    },
    "papermill": {
     "duration": 0.023502,
     "end_time": "2025-07-17T22:58:56.029883",
     "exception": false,
     "start_time": "2025-07-17T22:58:56.006381",
     "status": "completed"
    },
    "tags": []
   },
   "outputs": [],
   "source": [
    "df['Offer'] = df['Offer'].fillna('No Offer Accepted')"
   ]
  },
  {
   "cell_type": "code",
   "execution_count": 15,
   "id": "570ddf40",
   "metadata": {
    "execution": {
     "iopub.execute_input": "2025-07-17T22:58:56.056878Z",
     "iopub.status.busy": "2025-07-17T22:58:56.056380Z",
     "iopub.status.idle": "2025-07-17T22:58:56.068904Z",
     "shell.execute_reply": "2025-07-17T22:58:56.067833Z"
    },
    "papermill": {
     "duration": 0.027784,
     "end_time": "2025-07-17T22:58:56.070383",
     "exception": false,
     "start_time": "2025-07-17T22:58:56.042599",
     "status": "completed"
    },
    "tags": []
   },
   "outputs": [
    {
     "data": {
      "text/plain": [
       "Internet Type\n",
       "Fiber Optic    3035\n",
       "DSL            1652\n",
       "missing        1526\n",
       "Cable           830\n",
       "Name: count, dtype: int64"
      ]
     },
     "execution_count": 15,
     "metadata": {},
     "output_type": "execute_result"
    }
   ],
   "source": [
    "df['Internet Type'].fillna('missing').value_counts()"
   ]
  },
  {
   "cell_type": "code",
   "execution_count": 16,
   "id": "3934e01e",
   "metadata": {
    "execution": {
     "iopub.execute_input": "2025-07-17T22:58:56.097271Z",
     "iopub.status.busy": "2025-07-17T22:58:56.096957Z",
     "iopub.status.idle": "2025-07-17T22:58:56.103132Z",
     "shell.execute_reply": "2025-07-17T22:58:56.102249Z"
    },
    "papermill": {
     "duration": 0.0219,
     "end_time": "2025-07-17T22:58:56.105241",
     "exception": false,
     "start_time": "2025-07-17T22:58:56.083341",
     "status": "completed"
    },
    "tags": []
   },
   "outputs": [],
   "source": [
    "df['Internet Type'] = df['Internet Type'].fillna('Not Subscribed')"
   ]
  },
  {
   "cell_type": "code",
   "execution_count": 17,
   "id": "d7ca1dfd",
   "metadata": {
    "execution": {
     "iopub.execute_input": "2025-07-17T22:58:56.141393Z",
     "iopub.status.busy": "2025-07-17T22:58:56.141099Z",
     "iopub.status.idle": "2025-07-17T22:58:56.150316Z",
     "shell.execute_reply": "2025-07-17T22:58:56.149351Z"
    },
    "papermill": {
     "duration": 0.025445,
     "end_time": "2025-07-17T22:58:56.152334",
     "exception": false,
     "start_time": "2025-07-17T22:58:56.126889",
     "status": "completed"
    },
    "tags": []
   },
   "outputs": [
    {
     "data": {
      "text/plain": [
       "Churn Category\n",
       "missing            5174\n",
       "Competitor          841\n",
       "Attitude            314\n",
       "Dissatisfaction     303\n",
       "Price               211\n",
       "Other               200\n",
       "Name: count, dtype: int64"
      ]
     },
     "execution_count": 17,
     "metadata": {},
     "output_type": "execute_result"
    }
   ],
   "source": [
    "df['Churn Category'].fillna('missing').value_counts()"
   ]
  },
  {
   "cell_type": "code",
   "execution_count": 18,
   "id": "f1a6ef7c",
   "metadata": {
    "execution": {
     "iopub.execute_input": "2025-07-17T22:58:56.191281Z",
     "iopub.status.busy": "2025-07-17T22:58:56.190941Z",
     "iopub.status.idle": "2025-07-17T22:58:56.197674Z",
     "shell.execute_reply": "2025-07-17T22:58:56.196617Z"
    },
    "papermill": {
     "duration": 0.025237,
     "end_time": "2025-07-17T22:58:56.199464",
     "exception": false,
     "start_time": "2025-07-17T22:58:56.174227",
     "status": "completed"
    },
    "tags": []
   },
   "outputs": [],
   "source": [
    "df['Churn Category'] = df['Churn Category'].fillna('Not Churned')"
   ]
  },
  {
   "cell_type": "code",
   "execution_count": 19,
   "id": "b40415b8",
   "metadata": {
    "execution": {
     "iopub.execute_input": "2025-07-17T22:58:56.227732Z",
     "iopub.status.busy": "2025-07-17T22:58:56.227420Z",
     "iopub.status.idle": "2025-07-17T22:58:56.237463Z",
     "shell.execute_reply": "2025-07-17T22:58:56.236344Z"
    },
    "papermill": {
     "duration": 0.02611,
     "end_time": "2025-07-17T22:58:56.239189",
     "exception": false,
     "start_time": "2025-07-17T22:58:56.213079",
     "status": "completed"
    },
    "tags": []
   },
   "outputs": [
    {
     "data": {
      "text/plain": [
       "Churn Reason\n",
       "missing                                      5174\n",
       "Competitor had better devices                 313\n",
       "Competitor made better offer                  311\n",
       "Attitude of support person                    220\n",
       "Don't know                                    130\n",
       "Competitor offered more data                  117\n",
       "Competitor offered higher download speeds     100\n",
       "Attitude of service provider                   94\n",
       "Price too high                                 78\n",
       "Product dissatisfaction                        77\n",
       "Network reliability                            72\n",
       "Long distance charges                          64\n",
       "Service dissatisfaction                        63\n",
       "Moved                                          46\n",
       "Extra data charges                             39\n",
       "Limited range of services                      37\n",
       "Poor expertise of online support               31\n",
       "Lack of affordable download/upload speed       30\n",
       "Lack of self-service on Website                29\n",
       "Poor expertise of phone support                12\n",
       "Deceased                                        6\n",
       "Name: count, dtype: int64"
      ]
     },
     "execution_count": 19,
     "metadata": {},
     "output_type": "execute_result"
    }
   ],
   "source": [
    "df['Churn Reason'].fillna('missing').value_counts()"
   ]
  },
  {
   "cell_type": "code",
   "execution_count": 20,
   "id": "9bce5433",
   "metadata": {
    "execution": {
     "iopub.execute_input": "2025-07-17T22:58:56.266617Z",
     "iopub.status.busy": "2025-07-17T22:58:56.265616Z",
     "iopub.status.idle": "2025-07-17T22:58:56.272084Z",
     "shell.execute_reply": "2025-07-17T22:58:56.271110Z"
    },
    "papermill": {
     "duration": 0.022114,
     "end_time": "2025-07-17T22:58:56.274097",
     "exception": false,
     "start_time": "2025-07-17T22:58:56.251983",
     "status": "completed"
    },
    "tags": []
   },
   "outputs": [],
   "source": [
    "df['Churn Reason'] = df['Churn Reason'].fillna('Not Churned')"
   ]
  },
  {
   "cell_type": "code",
   "execution_count": 21,
   "id": "82c4cd9b",
   "metadata": {
    "execution": {
     "iopub.execute_input": "2025-07-17T22:58:56.305703Z",
     "iopub.status.busy": "2025-07-17T22:58:56.304369Z",
     "iopub.status.idle": "2025-07-17T22:58:56.337487Z",
     "shell.execute_reply": "2025-07-17T22:58:56.336512Z"
    },
    "papermill": {
     "duration": 0.050006,
     "end_time": "2025-07-17T22:58:56.339338",
     "exception": false,
     "start_time": "2025-07-17T22:58:56.289332",
     "status": "completed"
    },
    "tags": []
   },
   "outputs": [],
   "source": [
    "for i in df.columns:\n",
    "    if df[i].isnull().sum():\n",
    "        print(i)"
   ]
  },
  {
   "cell_type": "markdown",
   "id": "759f783e",
   "metadata": {
    "papermill": {
     "duration": 0.012185,
     "end_time": "2025-07-17T22:58:56.364498",
     "exception": false,
     "start_time": "2025-07-17T22:58:56.352313",
     "status": "completed"
    },
    "tags": []
   },
   "source": [
    "> So, there are no rows with missing entries"
   ]
  },
  {
   "cell_type": "markdown",
   "id": "f399f9e8",
   "metadata": {
    "papermill": {
     "duration": 0.012272,
     "end_time": "2025-07-17T22:58:56.389292",
     "exception": false,
     "start_time": "2025-07-17T22:58:56.377020",
     "status": "completed"
    },
    "tags": []
   },
   "source": [
    "### 2.4. Dropping the useless features"
   ]
  },
  {
   "cell_type": "code",
   "execution_count": 22,
   "id": "ae223410",
   "metadata": {
    "execution": {
     "iopub.execute_input": "2025-07-17T22:58:56.415679Z",
     "iopub.status.busy": "2025-07-17T22:58:56.415300Z",
     "iopub.status.idle": "2025-07-17T22:58:56.420313Z",
     "shell.execute_reply": "2025-07-17T22:58:56.419310Z"
    },
    "papermill": {
     "duration": 0.02045,
     "end_time": "2025-07-17T22:58:56.422151",
     "exception": false,
     "start_time": "2025-07-17T22:58:56.401701",
     "status": "completed"
    },
    "tags": []
   },
   "outputs": [],
   "source": [
    "features_to_be_inspected = ['Customer ID', 'State', 'Country', 'Quarter']"
   ]
  },
  {
   "cell_type": "code",
   "execution_count": 23,
   "id": "0f788f3c",
   "metadata": {
    "execution": {
     "iopub.execute_input": "2025-07-17T22:58:56.450791Z",
     "iopub.status.busy": "2025-07-17T22:58:56.450449Z",
     "iopub.status.idle": "2025-07-17T22:58:56.457476Z",
     "shell.execute_reply": "2025-07-17T22:58:56.456449Z"
    },
    "papermill": {
     "duration": 0.023677,
     "end_time": "2025-07-17T22:58:56.459322",
     "exception": false,
     "start_time": "2025-07-17T22:58:56.435645",
     "status": "completed"
    },
    "tags": []
   },
   "outputs": [
    {
     "data": {
      "text/plain": [
       "array(['8779-QRDMV', '7495-OOKFY', '1658-BYGOY', ..., '2234-XADUH',\n",
       "       '4801-JZAZL', '3186-AJIEK'], dtype=object)"
      ]
     },
     "execution_count": 23,
     "metadata": {},
     "output_type": "execute_result"
    }
   ],
   "source": [
    "df['Customer ID'].values"
   ]
  },
  {
   "cell_type": "code",
   "execution_count": 24,
   "id": "d44a0cad",
   "metadata": {
    "execution": {
     "iopub.execute_input": "2025-07-17T22:58:56.486890Z",
     "iopub.status.busy": "2025-07-17T22:58:56.486520Z",
     "iopub.status.idle": "2025-07-17T22:58:56.494308Z",
     "shell.execute_reply": "2025-07-17T22:58:56.493293Z"
    },
    "papermill": {
     "duration": 0.023686,
     "end_time": "2025-07-17T22:58:56.496263",
     "exception": false,
     "start_time": "2025-07-17T22:58:56.472577",
     "status": "completed"
    },
    "tags": []
   },
   "outputs": [
    {
     "data": {
      "text/plain": [
       "7043"
      ]
     },
     "execution_count": 24,
     "metadata": {},
     "output_type": "execute_result"
    }
   ],
   "source": [
    "len(df['Customer ID'].unique())"
   ]
  },
  {
   "cell_type": "markdown",
   "id": "a4c30fd9",
   "metadata": {
    "papermill": {
     "duration": 0.014452,
     "end_time": "2025-07-17T22:58:56.524408",
     "exception": false,
     "start_time": "2025-07-17T22:58:56.509956",
     "status": "completed"
    },
    "tags": []
   },
   "source": [
    "> So, `Customer ID` is just an identifier and carries no additional information useful for predictions"
   ]
  },
  {
   "cell_type": "code",
   "execution_count": 25,
   "id": "9c60eca8",
   "metadata": {
    "execution": {
     "iopub.execute_input": "2025-07-17T22:58:56.554002Z",
     "iopub.status.busy": "2025-07-17T22:58:56.553250Z",
     "iopub.status.idle": "2025-07-17T22:58:56.559884Z",
     "shell.execute_reply": "2025-07-17T22:58:56.558983Z"
    },
    "papermill": {
     "duration": 0.023195,
     "end_time": "2025-07-17T22:58:56.561485",
     "exception": false,
     "start_time": "2025-07-17T22:58:56.538290",
     "status": "completed"
    },
    "tags": []
   },
   "outputs": [
    {
     "data": {
      "text/plain": [
       "array(['California'], dtype=object)"
      ]
     },
     "execution_count": 25,
     "metadata": {},
     "output_type": "execute_result"
    }
   ],
   "source": [
    "df['State'].unique()"
   ]
  },
  {
   "cell_type": "markdown",
   "id": "0078fbe1",
   "metadata": {
    "papermill": {
     "duration": 0.01249,
     "end_time": "2025-07-17T22:58:56.587100",
     "exception": false,
     "start_time": "2025-07-17T22:58:56.574610",
     "status": "completed"
    },
    "tags": []
   },
   "source": [
    "> So, `State` feature has only a single entry through out the data and thus carries no new information"
   ]
  },
  {
   "cell_type": "code",
   "execution_count": 26,
   "id": "6e1cea1f",
   "metadata": {
    "execution": {
     "iopub.execute_input": "2025-07-17T22:58:56.614944Z",
     "iopub.status.busy": "2025-07-17T22:58:56.613953Z",
     "iopub.status.idle": "2025-07-17T22:58:56.620553Z",
     "shell.execute_reply": "2025-07-17T22:58:56.619654Z"
    },
    "papermill": {
     "duration": 0.02232,
     "end_time": "2025-07-17T22:58:56.622054",
     "exception": false,
     "start_time": "2025-07-17T22:58:56.599734",
     "status": "completed"
    },
    "tags": []
   },
   "outputs": [
    {
     "data": {
      "text/plain": [
       "array(['United States'], dtype=object)"
      ]
     },
     "execution_count": 26,
     "metadata": {},
     "output_type": "execute_result"
    }
   ],
   "source": [
    "df['Country'].unique()"
   ]
  },
  {
   "cell_type": "markdown",
   "id": "ce7dac7b",
   "metadata": {
    "papermill": {
     "duration": 0.012432,
     "end_time": "2025-07-17T22:58:56.647557",
     "exception": false,
     "start_time": "2025-07-17T22:58:56.635125",
     "status": "completed"
    },
    "tags": []
   },
   "source": [
    "> So, `Country` feature has only a single entry through out the data and thus carries no new information"
   ]
  },
  {
   "cell_type": "code",
   "execution_count": 27,
   "id": "53b1e277",
   "metadata": {
    "execution": {
     "iopub.execute_input": "2025-07-17T22:58:56.674980Z",
     "iopub.status.busy": "2025-07-17T22:58:56.674090Z",
     "iopub.status.idle": "2025-07-17T22:58:56.681242Z",
     "shell.execute_reply": "2025-07-17T22:58:56.680260Z"
    },
    "papermill": {
     "duration": 0.022602,
     "end_time": "2025-07-17T22:58:56.682875",
     "exception": false,
     "start_time": "2025-07-17T22:58:56.660273",
     "status": "completed"
    },
    "tags": []
   },
   "outputs": [
    {
     "data": {
      "text/plain": [
       "array(['Q3'], dtype=object)"
      ]
     },
     "execution_count": 27,
     "metadata": {},
     "output_type": "execute_result"
    }
   ],
   "source": [
    "df['Quarter'].unique()"
   ]
  },
  {
   "cell_type": "markdown",
   "id": "087c4140",
   "metadata": {
    "papermill": {
     "duration": 0.013047,
     "end_time": "2025-07-17T22:58:56.709637",
     "exception": false,
     "start_time": "2025-07-17T22:58:56.696590",
     "status": "completed"
    },
    "tags": []
   },
   "source": [
    "> So, `Quarter` feature has only a single entry through out the data and thus carries no new information"
   ]
  },
  {
   "cell_type": "code",
   "execution_count": 28,
   "id": "8b5e49ba",
   "metadata": {
    "execution": {
     "iopub.execute_input": "2025-07-17T22:58:56.738402Z",
     "iopub.status.busy": "2025-07-17T22:58:56.738024Z",
     "iopub.status.idle": "2025-07-17T22:58:56.756218Z",
     "shell.execute_reply": "2025-07-17T22:58:56.755102Z"
    },
    "papermill": {
     "duration": 0.03483,
     "end_time": "2025-07-17T22:58:56.758110",
     "exception": false,
     "start_time": "2025-07-17T22:58:56.723280",
     "status": "completed"
    },
    "tags": []
   },
   "outputs": [],
   "source": [
    "features_to_be_inspected = ['Customer ID', 'State', 'Country', 'Quarter']\n",
    "df = df.drop(features_to_be_inspected, axis=1)"
   ]
  },
  {
   "cell_type": "markdown",
   "id": "38705ab8",
   "metadata": {
    "papermill": {
     "duration": 0.012879,
     "end_time": "2025-07-17T22:58:56.784161",
     "exception": false,
     "start_time": "2025-07-17T22:58:56.771282",
     "status": "completed"
    },
    "tags": []
   },
   "source": [
    "### 2.5. Updating categorical_features"
   ]
  },
  {
   "cell_type": "code",
   "execution_count": 29,
   "id": "2d57a2ae",
   "metadata": {
    "execution": {
     "iopub.execute_input": "2025-07-17T22:58:56.812364Z",
     "iopub.status.busy": "2025-07-17T22:58:56.811187Z",
     "iopub.status.idle": "2025-07-17T22:58:56.816168Z",
     "shell.execute_reply": "2025-07-17T22:58:56.815286Z"
    },
    "papermill": {
     "duration": 0.020459,
     "end_time": "2025-07-17T22:58:56.817651",
     "exception": false,
     "start_time": "2025-07-17T22:58:56.797192",
     "status": "completed"
    },
    "tags": []
   },
   "outputs": [],
   "source": [
    "categorical_features = list(set(categorical_features) - set(features_to_be_inspected))"
   ]
  },
  {
   "cell_type": "markdown",
   "id": "19381582",
   "metadata": {
    "papermill": {
     "duration": 0.01256,
     "end_time": "2025-07-17T22:58:56.843282",
     "exception": false,
     "start_time": "2025-07-17T22:58:56.830722",
     "status": "completed"
    },
    "tags": []
   },
   "source": [
    "### 2.7. Renaming the columns to lower case"
   ]
  },
  {
   "cell_type": "code",
   "execution_count": 30,
   "id": "193e7faf",
   "metadata": {
    "execution": {
     "iopub.execute_input": "2025-07-17T22:58:56.870566Z",
     "iopub.status.busy": "2025-07-17T22:58:56.870251Z",
     "iopub.status.idle": "2025-07-17T22:58:56.877353Z",
     "shell.execute_reply": "2025-07-17T22:58:56.876414Z"
    },
    "papermill": {
     "duration": 0.023358,
     "end_time": "2025-07-17T22:58:56.879534",
     "exception": false,
     "start_time": "2025-07-17T22:58:56.856176",
     "status": "completed"
    },
    "tags": []
   },
   "outputs": [
    {
     "data": {
      "text/plain": [
       "Index(['gender', 'age', 'under 30', 'senior citizen', 'married', 'dependents',\n",
       "       'number of dependents', 'city', 'zip code', 'latitude',\n",
       "       ...\n",
       "       'z42', 'z43', 'z44', 'z45', 'z50', 'z51', 'z52', 'z53', 'z54', 'z55'],\n",
       "      dtype='object', length=160)"
      ]
     },
     "execution_count": 30,
     "metadata": {},
     "output_type": "execute_result"
    }
   ],
   "source": [
    "df.columns = df.columns.str.lower()\n",
    "df.columns"
   ]
  },
  {
   "cell_type": "code",
   "execution_count": 31,
   "id": "dd04dbad",
   "metadata": {
    "execution": {
     "iopub.execute_input": "2025-07-17T22:58:56.909784Z",
     "iopub.status.busy": "2025-07-17T22:58:56.909466Z",
     "iopub.status.idle": "2025-07-17T22:58:56.915285Z",
     "shell.execute_reply": "2025-07-17T22:58:56.914168Z"
    },
    "papermill": {
     "duration": 0.022515,
     "end_time": "2025-07-17T22:58:56.917067",
     "exception": false,
     "start_time": "2025-07-17T22:58:56.894552",
     "status": "completed"
    },
    "tags": []
   },
   "outputs": [
    {
     "name": "stdout",
     "output_type": "stream",
     "text": [
      "160\n"
     ]
    }
   ],
   "source": [
    "numerical_features = [i.lower() for i in numerical_features]\n",
    "ordinal_features = [i.lower() for i in ordinal_features]\n",
    "categorical_features = [i.lower() for i in categorical_features]\n",
    "print(len(numerical_features + categorical_features + ordinal_features))\n",
    "# result will be 160 as 4 features were removed."
   ]
  },
  {
   "cell_type": "markdown",
   "id": "b7c6179c",
   "metadata": {
    "papermill": {
     "duration": 0.013377,
     "end_time": "2025-07-17T22:58:56.944987",
     "exception": false,
     "start_time": "2025-07-17T22:58:56.931610",
     "status": "completed"
    },
    "tags": []
   },
   "source": [
    "### 2.8. Prefixing zip code values with label zipcode-"
   ]
  },
  {
   "cell_type": "code",
   "execution_count": 32,
   "id": "654a0de7",
   "metadata": {
    "execution": {
     "iopub.execute_input": "2025-07-17T22:58:56.973901Z",
     "iopub.status.busy": "2025-07-17T22:58:56.973555Z",
     "iopub.status.idle": "2025-07-17T22:58:56.982317Z",
     "shell.execute_reply": "2025-07-17T22:58:56.981136Z"
    },
    "papermill": {
     "duration": 0.025065,
     "end_time": "2025-07-17T22:58:56.983996",
     "exception": false,
     "start_time": "2025-07-17T22:58:56.958931",
     "status": "completed"
    },
    "tags": []
   },
   "outputs": [
    {
     "data": {
      "text/plain": [
       "0       90022\n",
       "1       90063\n",
       "2       90065\n",
       "3       90303\n",
       "4       90602\n",
       "        ...  \n",
       "7038    92285\n",
       "7039    92301\n",
       "7040    92304\n",
       "7041    92305\n",
       "7042    92308\n",
       "Name: zip code, Length: 7043, dtype: int64"
      ]
     },
     "execution_count": 32,
     "metadata": {},
     "output_type": "execute_result"
    }
   ],
   "source": [
    "df['zip code']"
   ]
  },
  {
   "cell_type": "markdown",
   "id": "e967b9aa",
   "metadata": {
    "papermill": {
     "duration": 0.012745,
     "end_time": "2025-07-17T22:58:57.010276",
     "exception": false,
     "start_time": "2025-07-17T22:58:56.997531",
     "status": "completed"
    },
    "tags": []
   },
   "source": [
    "> zip code should not be interpreted as a numerical column as scaling of this feature would make it lose it's initial purpose. It should rather be interpreted as a categorical value."
   ]
  },
  {
   "cell_type": "code",
   "execution_count": 33,
   "id": "97fbb287",
   "metadata": {
    "execution": {
     "iopub.execute_input": "2025-07-17T22:58:57.037665Z",
     "iopub.status.busy": "2025-07-17T22:58:57.037393Z",
     "iopub.status.idle": "2025-07-17T22:58:57.048794Z",
     "shell.execute_reply": "2025-07-17T22:58:57.047977Z"
    },
    "papermill": {
     "duration": 0.027219,
     "end_time": "2025-07-17T22:58:57.050391",
     "exception": false,
     "start_time": "2025-07-17T22:58:57.023172",
     "status": "completed"
    },
    "tags": []
   },
   "outputs": [
    {
     "data": {
      "text/plain": [
       "0       zipcode-90022\n",
       "1       zipcode-90063\n",
       "2       zipcode-90065\n",
       "3       zipcode-90303\n",
       "4       zipcode-90602\n",
       "            ...      \n",
       "7038    zipcode-92285\n",
       "7039    zipcode-92301\n",
       "7040    zipcode-92304\n",
       "7041    zipcode-92305\n",
       "7042    zipcode-92308\n",
       "Name: zip code, Length: 7043, dtype: object"
      ]
     },
     "execution_count": 33,
     "metadata": {},
     "output_type": "execute_result"
    }
   ],
   "source": [
    "df['zip code'] = df['zip code'].apply(lambda x: 'zipcode-'+str(x))\n",
    "df['zip code']"
   ]
  },
  {
   "cell_type": "code",
   "execution_count": 34,
   "id": "fc309db0",
   "metadata": {
    "execution": {
     "iopub.execute_input": "2025-07-17T22:58:57.079554Z",
     "iopub.status.busy": "2025-07-17T22:58:57.079271Z",
     "iopub.status.idle": "2025-07-17T22:58:57.085219Z",
     "shell.execute_reply": "2025-07-17T22:58:57.083970Z"
    },
    "papermill": {
     "duration": 0.022276,
     "end_time": "2025-07-17T22:58:57.086817",
     "exception": false,
     "start_time": "2025-07-17T22:58:57.064541",
     "status": "completed"
    },
    "tags": []
   },
   "outputs": [
    {
     "name": "stdout",
     "output_type": "stream",
     "text": [
      "160\n"
     ]
    }
   ],
   "source": [
    "numerical_features = list(set(numerical_features) - set(['zip code']))\n",
    "categorical_features = list(set(categorical_features).union(set(['zip code'])))\n",
    "print(len(numerical_features + categorical_features + ordinal_features))"
   ]
  },
  {
   "cell_type": "markdown",
   "id": "4b1da358",
   "metadata": {
    "papermill": {
     "duration": 0.012922,
     "end_time": "2025-07-17T22:58:57.113419",
     "exception": false,
     "start_time": "2025-07-17T22:58:57.100497",
     "status": "completed"
    },
    "tags": []
   },
   "source": [
    "### 2.9. Feature Engineering"
   ]
  },
  {
   "cell_type": "code",
   "execution_count": 35,
   "id": "a817844c",
   "metadata": {
    "execution": {
     "iopub.execute_input": "2025-07-17T22:58:57.141131Z",
     "iopub.status.busy": "2025-07-17T22:58:57.140830Z",
     "iopub.status.idle": "2025-07-17T22:58:57.147221Z",
     "shell.execute_reply": "2025-07-17T22:58:57.146002Z"
    },
    "papermill": {
     "duration": 0.022037,
     "end_time": "2025-07-17T22:58:57.148655",
     "exception": false,
     "start_time": "2025-07-17T22:58:57.126618",
     "status": "completed"
    },
    "tags": []
   },
   "outputs": [],
   "source": [
    "# total monthly charges paid over entire tenure\n",
    "df['total_monthly_charges'] = df['monthly charge']*df['tenure in months']"
   ]
  },
  {
   "cell_type": "code",
   "execution_count": 36,
   "id": "4e25c978",
   "metadata": {
    "execution": {
     "iopub.execute_input": "2025-07-17T22:58:57.178029Z",
     "iopub.status.busy": "2025-07-17T22:58:57.176732Z",
     "iopub.status.idle": "2025-07-17T22:58:57.184947Z",
     "shell.execute_reply": "2025-07-17T22:58:57.183486Z"
    },
    "papermill": {
     "duration": 0.024619,
     "end_time": "2025-07-17T22:58:57.186776",
     "exception": false,
     "start_time": "2025-07-17T22:58:57.162157",
     "status": "completed"
    },
    "tags": []
   },
   "outputs": [],
   "source": [
    "# total number of products subscribed by each client\n",
    "df['count_of_products_subscribed'] = df['p1'] + df['p2'] + df['p3'] + df['p4'] + df['p5']"
   ]
  },
  {
   "cell_type": "code",
   "execution_count": 37,
   "id": "44e86314",
   "metadata": {
    "execution": {
     "iopub.execute_input": "2025-07-17T22:58:57.215726Z",
     "iopub.status.busy": "2025-07-17T22:58:57.215377Z",
     "iopub.status.idle": "2025-07-17T22:58:57.221705Z",
     "shell.execute_reply": "2025-07-17T22:58:57.220724Z"
    },
    "papermill": {
     "duration": 0.022959,
     "end_time": "2025-07-17T22:58:57.223418",
     "exception": false,
     "start_time": "2025-07-17T22:58:57.200459",
     "status": "completed"
    },
    "tags": []
   },
   "outputs": [],
   "source": [
    "# Finding total monthly charges spent per product on an average\n",
    "df['total_monthly_charges_per_product'] = df['total_monthly_charges']/df['count_of_products_subscribed']"
   ]
  },
  {
   "cell_type": "code",
   "execution_count": 38,
   "id": "4d78e9fa",
   "metadata": {
    "execution": {
     "iopub.execute_input": "2025-07-17T22:58:57.253928Z",
     "iopub.status.busy": "2025-07-17T22:58:57.253556Z",
     "iopub.status.idle": "2025-07-17T22:58:57.259893Z",
     "shell.execute_reply": "2025-07-17T22:58:57.258827Z"
    },
    "papermill": {
     "duration": 0.023118,
     "end_time": "2025-07-17T22:58:57.261734",
     "exception": false,
     "start_time": "2025-07-17T22:58:57.238616",
     "status": "completed"
    },
    "tags": []
   },
   "outputs": [],
   "source": [
    "# actual cltv based on tenure\n",
    "df['tenure_based_cltv'] = df['cltv'] * df['tenure in months']"
   ]
  },
  {
   "cell_type": "code",
   "execution_count": 39,
   "id": "e865e46f",
   "metadata": {
    "execution": {
     "iopub.execute_input": "2025-07-17T22:58:57.295884Z",
     "iopub.status.busy": "2025-07-17T22:58:57.294961Z",
     "iopub.status.idle": "2025-07-17T22:58:57.302373Z",
     "shell.execute_reply": "2025-07-17T22:58:57.301557Z"
    },
    "papermill": {
     "duration": 0.02645,
     "end_time": "2025-07-17T22:58:57.303974",
     "exception": false,
     "start_time": "2025-07-17T22:58:57.277524",
     "status": "completed"
    },
    "tags": []
   },
   "outputs": [],
   "source": [
    "# cltv of a customer per product on an average\n",
    "df['cltv_to_products_count_ratio'] = df['cltv']/df['count_of_products_subscribed']\n",
    "# churn score associated with a customer per product on an average\n",
    "df['churn_score_to_products_count_ratio'] = df['churn score']/df['count_of_products_subscribed']\n",
    "# satisfaction score of a customer per product on an average\n",
    "df['satisfaction_score_to_products_count_ratio'] = df['satisfaction score']/df['count_of_products_subscribed']"
   ]
  },
  {
   "cell_type": "code",
   "execution_count": 40,
   "id": "fa6a7438",
   "metadata": {
    "execution": {
     "iopub.execute_input": "2025-07-17T22:58:57.335304Z",
     "iopub.status.busy": "2025-07-17T22:58:57.334518Z",
     "iopub.status.idle": "2025-07-17T22:58:57.340394Z",
     "shell.execute_reply": "2025-07-17T22:58:57.339298Z"
    },
    "papermill": {
     "duration": 0.0232,
     "end_time": "2025-07-17T22:58:57.342142",
     "exception": false,
     "start_time": "2025-07-17T22:58:57.318942",
     "status": "completed"
    },
    "tags": []
   },
   "outputs": [],
   "source": [
    "# finding the number of years the customer is associated with the company\n",
    "df['count_of_years_associated'] = df['tenure in months']//12"
   ]
  },
  {
   "cell_type": "code",
   "execution_count": 41,
   "id": "4b835faf",
   "metadata": {
    "execution": {
     "iopub.execute_input": "2025-07-17T22:58:57.371209Z",
     "iopub.status.busy": "2025-07-17T22:58:57.370920Z",
     "iopub.status.idle": "2025-07-17T22:58:57.380466Z",
     "shell.execute_reply": "2025-07-17T22:58:57.379259Z"
    },
    "papermill": {
     "duration": 0.025996,
     "end_time": "2025-07-17T22:58:57.382114",
     "exception": false,
     "start_time": "2025-07-17T22:58:57.356118",
     "status": "completed"
    },
    "tags": []
   },
   "outputs": [],
   "source": [
    "# evaluating a customer's apetite to churn based on the number of years associated with the company\n",
    "df['churn_apetite_basis_tenure_association'] = df['count_of_years_associated'].apply(\n",
    "    lambda x: 5 if x<=1 else\n",
    "              (4 if x==2 else\n",
    "              (3 if x==3 else\n",
    "              (2 if x==4 else\n",
    "              (1 if x>4 else None))))\n",
    ")"
   ]
  },
  {
   "cell_type": "code",
   "execution_count": 42,
   "id": "f209217c",
   "metadata": {
    "execution": {
     "iopub.execute_input": "2025-07-17T22:58:57.410520Z",
     "iopub.status.busy": "2025-07-17T22:58:57.410140Z",
     "iopub.status.idle": "2025-07-17T22:58:57.419896Z",
     "shell.execute_reply": "2025-07-17T22:58:57.418956Z"
    },
    "papermill": {
     "duration": 0.025943,
     "end_time": "2025-07-17T22:58:57.421608",
     "exception": false,
     "start_time": "2025-07-17T22:58:57.395665",
     "status": "completed"
    },
    "tags": []
   },
   "outputs": [],
   "source": [
    "# evaluating a customer's apetite to churn based on the number of products subscribed\n",
    "df['churn_apetite_basis_products_subscription_count'] = df['count_of_products_subscribed'].apply(\n",
    "    lambda x: 5 if x<=1 else(\n",
    "              4 if x==2 else(\n",
    "              3 if x==3 else(\n",
    "              2 if x==4 else(\n",
    "              1 if x>=5 else None))))\n",
    ")"
   ]
  },
  {
   "cell_type": "code",
   "execution_count": 43,
   "id": "d9aad259",
   "metadata": {
    "execution": {
     "iopub.execute_input": "2025-07-17T22:58:57.450452Z",
     "iopub.status.busy": "2025-07-17T22:58:57.449587Z",
     "iopub.status.idle": "2025-07-17T22:58:57.459561Z",
     "shell.execute_reply": "2025-07-17T22:58:57.458569Z"
    },
    "papermill": {
     "duration": 0.026155,
     "end_time": "2025-07-17T22:58:57.461292",
     "exception": false,
     "start_time": "2025-07-17T22:58:57.435137",
     "status": "completed"
    },
    "tags": []
   },
   "outputs": [],
   "source": [
    "# evaluating a customer's apetite to churn based on the satisfaction score\n",
    "df['churn_apetite_basis_satisfaction_score'] = df['satisfaction score'].apply(\n",
    "    lambda x: 5 if x==1 else(\n",
    "                4 if x==2 else(\n",
    "                3 if x==3 else(\n",
    "                2 if x==4 else(\n",
    "                1 if x==5 else None))))\n",
    ")"
   ]
  },
  {
   "cell_type": "code",
   "execution_count": 44,
   "id": "3abc34ea",
   "metadata": {
    "execution": {
     "iopub.execute_input": "2025-07-17T22:58:57.490667Z",
     "iopub.status.busy": "2025-07-17T22:58:57.490289Z",
     "iopub.status.idle": "2025-07-17T22:58:57.496674Z",
     "shell.execute_reply": "2025-07-17T22:58:57.495546Z"
    },
    "papermill": {
     "duration": 0.023131,
     "end_time": "2025-07-17T22:58:57.498389",
     "exception": false,
     "start_time": "2025-07-17T22:58:57.475258",
     "status": "completed"
    },
    "tags": []
   },
   "outputs": [
    {
     "name": "stdout",
     "output_type": "stream",
     "text": [
      "171\n"
     ]
    }
   ],
   "source": [
    "# adding the above features to numerical features\n",
    "numerical_features = numerical_features + ['total_monthly_charges',\n",
    "                                           'count_of_products_subscribed',\n",
    "                                           'total_monthly_charges_per_product',\n",
    "                                           'tenure_based_cltv',\n",
    "                                           'cltv_to_products_count_ratio',\n",
    "                                           'churn_score_to_products_count_ratio',\n",
    "                                           'satisfaction_score_to_products_count_ratio',\n",
    "                                           'count_of_years_associated',\n",
    "                                           'churn_apetite_basis_tenure_association',\n",
    "                                           'churn_apetite_basis_products_subscription_count',\n",
    "                                           'churn_apetite_basis_satisfaction_score']\n",
    "print(len(numerical_features + categorical_features + ordinal_features))"
   ]
  },
  {
   "cell_type": "markdown",
   "id": "14f23d9e",
   "metadata": {
    "papermill": {
     "duration": 0.013385,
     "end_time": "2025-07-17T22:58:57.525385",
     "exception": false,
     "start_time": "2025-07-17T22:58:57.512000",
     "status": "completed"
    },
    "tags": []
   },
   "source": [
    "## 3. Encode"
   ]
  },
  {
   "cell_type": "markdown",
   "id": "50cca9e4",
   "metadata": {
    "papermill": {
     "duration": 0.013886,
     "end_time": "2025-07-17T22:58:57.552771",
     "exception": false,
     "start_time": "2025-07-17T22:58:57.538885",
     "status": "completed"
    },
    "tags": []
   },
   "source": [
    "### 3.1. Converting categorical_features into one-hot vectors"
   ]
  },
  {
   "cell_type": "code",
   "execution_count": 45,
   "id": "238c188b",
   "metadata": {
    "execution": {
     "iopub.execute_input": "2025-07-17T22:58:57.581242Z",
     "iopub.status.busy": "2025-07-17T22:58:57.580888Z",
     "iopub.status.idle": "2025-07-17T22:58:58.133392Z",
     "shell.execute_reply": "2025-07-17T22:58:58.132410Z"
    },
    "papermill": {
     "duration": 0.568865,
     "end_time": "2025-07-17T22:58:58.135442",
     "exception": false,
     "start_time": "2025-07-17T22:58:57.566577",
     "status": "completed"
    },
    "tags": []
   },
   "outputs": [],
   "source": [
    "encoder = OneHotEncoder()\n",
    "encoder = encoder.fit(df[categorical_features])\n",
    "encoded_data = encoder.transform(df[categorical_features]).toarray()\n",
    "encoded_data_df = pd.DataFrame(encoded_data, columns = encoder.get_feature_names_out())\n",
    "df_new = pd.concat([df, encoded_data_df], axis=1).drop(categorical_features, axis=1)"
   ]
  },
  {
   "cell_type": "code",
   "execution_count": 46,
   "id": "9103afff",
   "metadata": {
    "execution": {
     "iopub.execute_input": "2025-07-17T22:58:58.165447Z",
     "iopub.status.busy": "2025-07-17T22:58:58.164976Z",
     "iopub.status.idle": "2025-07-17T22:58:58.171719Z",
     "shell.execute_reply": "2025-07-17T22:58:58.170826Z"
    },
    "papermill": {
     "duration": 0.023797,
     "end_time": "2025-07-17T22:58:58.173514",
     "exception": false,
     "start_time": "2025-07-17T22:58:58.149717",
     "status": "completed"
    },
    "tags": []
   },
   "outputs": [
    {
     "data": {
      "text/plain": [
       "(7043, 2939)"
      ]
     },
     "execution_count": 46,
     "metadata": {},
     "output_type": "execute_result"
    }
   ],
   "source": [
    "df_new.shape"
   ]
  },
  {
   "cell_type": "code",
   "execution_count": 47,
   "id": "67106f3d",
   "metadata": {
    "execution": {
     "iopub.execute_input": "2025-07-17T22:58:58.207169Z",
     "iopub.status.busy": "2025-07-17T22:58:58.206861Z",
     "iopub.status.idle": "2025-07-17T22:58:58.424787Z",
     "shell.execute_reply": "2025-07-17T22:58:58.423766Z"
    },
    "papermill": {
     "duration": 0.236762,
     "end_time": "2025-07-17T22:58:58.427036",
     "exception": false,
     "start_time": "2025-07-17T22:58:58.190274",
     "status": "completed"
    },
    "tags": []
   },
   "outputs": [],
   "source": [
    "df = df_new.copy()"
   ]
  },
  {
   "cell_type": "markdown",
   "id": "ac290d1f",
   "metadata": {
    "papermill": {
     "duration": 0.014438,
     "end_time": "2025-07-17T22:58:58.455941",
     "exception": false,
     "start_time": "2025-07-17T22:58:58.441503",
     "status": "completed"
    },
    "tags": []
   },
   "source": [
    "### 3.2. Encoding Ordinal features"
   ]
  },
  {
   "cell_type": "code",
   "execution_count": 48,
   "id": "e3ad8fb2",
   "metadata": {
    "execution": {
     "iopub.execute_input": "2025-07-17T22:58:58.487589Z",
     "iopub.status.busy": "2025-07-17T22:58:58.486630Z",
     "iopub.status.idle": "2025-07-17T22:58:58.493906Z",
     "shell.execute_reply": "2025-07-17T22:58:58.493055Z"
    },
    "papermill": {
     "duration": 0.024782,
     "end_time": "2025-07-17T22:58:58.495696",
     "exception": false,
     "start_time": "2025-07-17T22:58:58.470914",
     "status": "completed"
    },
    "tags": []
   },
   "outputs": [
    {
     "data": {
      "text/plain": [
       "{1, 2, 3, 4, 5}"
      ]
     },
     "execution_count": 48,
     "metadata": {},
     "output_type": "execute_result"
    }
   ],
   "source": [
    "set(df['satisfaction score'].values)"
   ]
  },
  {
   "cell_type": "markdown",
   "id": "ae0c5aea",
   "metadata": {
    "papermill": {
     "duration": 0.013452,
     "end_time": "2025-07-17T22:58:58.523260",
     "exception": false,
     "start_time": "2025-07-17T22:58:58.509808",
     "status": "completed"
    },
    "tags": []
   },
   "source": [
    "> So, `satisfaction score` is already encoded"
   ]
  },
  {
   "cell_type": "code",
   "execution_count": 49,
   "id": "902257c2",
   "metadata": {
    "execution": {
     "iopub.execute_input": "2025-07-17T22:58:58.551485Z",
     "iopub.status.busy": "2025-07-17T22:58:58.551202Z",
     "iopub.status.idle": "2025-07-17T22:58:58.558213Z",
     "shell.execute_reply": "2025-07-17T22:58:58.557249Z"
    },
    "papermill": {
     "duration": 0.022875,
     "end_time": "2025-07-17T22:58:58.559813",
     "exception": false,
     "start_time": "2025-07-17T22:58:58.536938",
     "status": "completed"
    },
    "tags": []
   },
   "outputs": [
    {
     "data": {
      "text/plain": [
       "{'Month-to-Month', 'One Year', 'Two Year'}"
      ]
     },
     "execution_count": 49,
     "metadata": {},
     "output_type": "execute_result"
    }
   ],
   "source": [
    "set(df['contract'].unique())"
   ]
  },
  {
   "cell_type": "code",
   "execution_count": 50,
   "id": "a29d652d",
   "metadata": {
    "execution": {
     "iopub.execute_input": "2025-07-17T22:58:58.589866Z",
     "iopub.status.busy": "2025-07-17T22:58:58.588923Z",
     "iopub.status.idle": "2025-07-17T22:58:58.595050Z",
     "shell.execute_reply": "2025-07-17T22:58:58.594207Z"
    },
    "papermill": {
     "duration": 0.022266,
     "end_time": "2025-07-17T22:58:58.596744",
     "exception": false,
     "start_time": "2025-07-17T22:58:58.574478",
     "status": "completed"
    },
    "tags": []
   },
   "outputs": [],
   "source": [
    "df['contract'] = df['contract'].map({ 'Month-to-Month': 1,\n",
    "                                      'One Year': 2,\n",
    "                                      'Two Year': 3 })"
   ]
  },
  {
   "cell_type": "code",
   "execution_count": 51,
   "id": "56f1a27d",
   "metadata": {
    "execution": {
     "iopub.execute_input": "2025-07-17T22:58:58.627246Z",
     "iopub.status.busy": "2025-07-17T22:58:58.626924Z",
     "iopub.status.idle": "2025-07-17T22:58:58.633555Z",
     "shell.execute_reply": "2025-07-17T22:58:58.632640Z"
    },
    "papermill": {
     "duration": 0.023353,
     "end_time": "2025-07-17T22:58:58.635066",
     "exception": false,
     "start_time": "2025-07-17T22:58:58.611713",
     "status": "completed"
    },
    "tags": []
   },
   "outputs": [
    {
     "data": {
      "text/plain": [
       "array([1, 2, 3])"
      ]
     },
     "execution_count": 51,
     "metadata": {},
     "output_type": "execute_result"
    }
   ],
   "source": [
    "df['contract'].unique()"
   ]
  },
  {
   "cell_type": "markdown",
   "id": "5a48be75",
   "metadata": {
    "papermill": {
     "duration": 0.013402,
     "end_time": "2025-07-17T22:58:58.662525",
     "exception": false,
     "start_time": "2025-07-17T22:58:58.649123",
     "status": "completed"
    },
    "tags": []
   },
   "source": [
    "> encoded `contract` feature to numerical values"
   ]
  },
  {
   "cell_type": "code",
   "execution_count": 52,
   "id": "c590a388",
   "metadata": {
    "execution": {
     "iopub.execute_input": "2025-07-17T22:58:58.691681Z",
     "iopub.status.busy": "2025-07-17T22:58:58.690610Z",
     "iopub.status.idle": "2025-07-17T22:58:58.696254Z",
     "shell.execute_reply": "2025-07-17T22:58:58.695349Z"
    },
    "papermill": {
     "duration": 0.021936,
     "end_time": "2025-07-17T22:58:58.697898",
     "exception": false,
     "start_time": "2025-07-17T22:58:58.675962",
     "status": "completed"
    },
    "tags": []
   },
   "outputs": [],
   "source": [
    "target_features = []\n",
    "for i in range(6):\n",
    "    for j in range(6):\n",
    "        target_features.extend([f'x{i}{j}', f'y{i}{j}', f'z{i}{j}'])\n",
    "target_features = sorted(list(set(target_features)))"
   ]
  },
  {
   "cell_type": "markdown",
   "id": "d28d8131",
   "metadata": {
    "papermill": {
     "duration": 0.01322,
     "end_time": "2025-07-17T22:58:58.724644",
     "exception": false,
     "start_time": "2025-07-17T22:58:58.711424",
     "status": "completed"
    },
    "tags": []
   },
   "source": [
    "## 4. Modelling"
   ]
  },
  {
   "cell_type": "code",
   "execution_count": 53,
   "id": "2c6678d5",
   "metadata": {
    "execution": {
     "iopub.execute_input": "2025-07-17T22:58:58.755310Z",
     "iopub.status.busy": "2025-07-17T22:58:58.754156Z",
     "iopub.status.idle": "2025-07-17T22:58:58.759357Z",
     "shell.execute_reply": "2025-07-17T22:58:58.758375Z"
    },
    "papermill": {
     "duration": 0.021691,
     "end_time": "2025-07-17T22:58:58.760839",
     "exception": false,
     "start_time": "2025-07-17T22:58:58.739148",
     "status": "completed"
    },
    "tags": []
   },
   "outputs": [],
   "source": [
    "model_dict = {}\n",
    "scaler_dict = {}"
   ]
  },
  {
   "cell_type": "code",
   "execution_count": 54,
   "id": "4f45656e",
   "metadata": {
    "execution": {
     "iopub.execute_input": "2025-07-17T22:58:58.790282Z",
     "iopub.status.busy": "2025-07-17T22:58:58.789209Z",
     "iopub.status.idle": "2025-07-17T22:58:58.795779Z",
     "shell.execute_reply": "2025-07-17T22:58:58.794780Z"
    },
    "papermill": {
     "duration": 0.022696,
     "end_time": "2025-07-17T22:58:58.797203",
     "exception": false,
     "start_time": "2025-07-17T22:58:58.774507",
     "status": "completed"
    },
    "tags": []
   },
   "outputs": [],
   "source": [
    "# transforming column names to lower case again as one-hot encoding results new features\n",
    "df.columns = df.columns.str.lower()"
   ]
  },
  {
   "cell_type": "code",
   "execution_count": 55,
   "id": "e52019ef",
   "metadata": {
    "execution": {
     "iopub.execute_input": "2025-07-17T22:58:58.825684Z",
     "iopub.status.busy": "2025-07-17T22:58:58.825384Z",
     "iopub.status.idle": "2025-07-17T22:58:58.932244Z",
     "shell.execute_reply": "2025-07-17T22:58:58.931137Z"
    },
    "papermill": {
     "duration": 0.123516,
     "end_time": "2025-07-17T22:58:58.934192",
     "exception": false,
     "start_time": "2025-07-17T22:58:58.810676",
     "status": "completed"
    },
    "tags": []
   },
   "outputs": [],
   "source": [
    "# splitting rows of data into train and test datasets, so that test dataset has 20% of the data points\n",
    "df_train, df_test = train_test_split(df, test_size = 0.2, random_state = 1)"
   ]
  },
  {
   "cell_type": "code",
   "execution_count": 56,
   "id": "3c82dfda",
   "metadata": {
    "execution": {
     "iopub.execute_input": "2025-07-17T22:58:58.964612Z",
     "iopub.status.busy": "2025-07-17T22:58:58.964291Z",
     "iopub.status.idle": "2025-07-17T22:58:59.010336Z",
     "shell.execute_reply": "2025-07-17T22:58:59.009438Z"
    },
    "papermill": {
     "duration": 0.063631,
     "end_time": "2025-07-17T22:58:59.012529",
     "exception": false,
     "start_time": "2025-07-17T22:58:58.948898",
     "status": "completed"
    },
    "tags": []
   },
   "outputs": [],
   "source": [
    "X_train = df_train.drop(target_features, axis=1)"
   ]
  },
  {
   "cell_type": "code",
   "execution_count": 57,
   "id": "5f6dcbe5",
   "metadata": {
    "execution": {
     "iopub.execute_input": "2025-07-17T22:58:59.043586Z",
     "iopub.status.busy": "2025-07-17T22:58:59.043289Z",
     "iopub.status.idle": "2025-07-17T22:58:59.051606Z",
     "shell.execute_reply": "2025-07-17T22:58:59.050563Z"
    },
    "papermill": {
     "duration": 0.025853,
     "end_time": "2025-07-17T22:58:59.053308",
     "exception": false,
     "start_time": "2025-07-17T22:58:59.027455",
     "status": "completed"
    },
    "tags": []
   },
   "outputs": [],
   "source": [
    "def return_model_and_scaler(target_col, input_list_of_estimators = None):\n",
    "    global df_train, X_train\n",
    "    # if input_list_of_estimators are not passed to the function, list_of_estimators will be used\n",
    "    if input_list_of_estimators == None:\n",
    "        input_list_of_estimators = np.arange(2, 11)\n",
    "    #df_train[target_col] = np.round(df_train[target_col], 2)\n",
    "    y_train = df_train[target_col]\n",
    "    # following ensures that grid search begins by scaling the data and then finding the best randomforest regressor using 5-fold cross validation and hyperparameter tuning\n",
    "    pipeline = Pipeline([\n",
    "        ('scaler', StandardScaler()),\n",
    "        ('rf', RandomForestRegressor(random_state = 1))\n",
    "    ])\n",
    "    param_grid = {'rf__n_estimators': input_list_of_estimators}\n",
    "    # n_jobs = -1 indicates to use all the processors\n",
    "    grid_search = GridSearchCV(estimator = pipeline, param_grid = param_grid, cv=5, n_jobs = -1)\n",
    "    grid_search.fit(X_train, y_train)\n",
    "    # retrieving the model and scaler after training\n",
    "    model = grid_search.best_estimator_.named_steps['rf']\n",
    "    scaler = grid_search.best_estimator_.named_steps['scaler']\n",
    "    #printing target_column, training_error, test_error\n",
    "    print(\"\\n\")\n",
    "    # printing target_column\n",
    "    print(f\"Target_column = {target_col}\")\n",
    "    # finding and printing training error\n",
    "    X_train_scaled = scaler.transform(X_train)\n",
    "    y_train_pred = model.predict(X_train_scaled)\n",
    "    mse_train = mean_squared_error(y_train, y_train_pred)\n",
    "    mae_train = mean_absolute_error(y_train, y_train_pred)\n",
    "    print(f\"Mean squared error for train data = {mse_train}\")\n",
    "    print(f\"Mean absolute error for train data = {mae_train}\")\n",
    "    # finding and printing test error\n",
    "    X_test_scaled = scaler.transform(df_test.drop(target_features, axis=1))\n",
    "    y_test = df_test[target_col]\n",
    "    y_test_pred = model.predict(X_test_scaled)\n",
    "    mse_test = mean_squared_error(y_test, y_test_pred)\n",
    "    mae_test = mean_absolute_error(y_test, y_test_pred)\n",
    "    print(f\"Mean squared error for test data = {mse_test}\")\n",
    "    print(f\"Mean absolute error for test data = {mae_test}\")\n",
    "    # returning the scaler and model\n",
    "    return scaler, model    "
   ]
  },
  {
   "cell_type": "code",
   "execution_count": 58,
   "id": "4b90dc77",
   "metadata": {
    "execution": {
     "iopub.execute_input": "2025-07-17T22:58:59.082472Z",
     "iopub.status.busy": "2025-07-17T22:58:59.082112Z",
     "iopub.status.idle": "2025-07-18T03:24:35.403245Z",
     "shell.execute_reply": "2025-07-18T03:24:35.402312Z"
    },
    "papermill": {
     "duration": 15936.337903,
     "end_time": "2025-07-18T03:24:35.405232",
     "exception": false,
     "start_time": "2025-07-17T22:58:59.067329",
     "status": "completed"
    },
    "tags": []
   },
   "outputs": [
    {
     "name": "stdout",
     "output_type": "stream",
     "text": [
      "\n",
      "\n",
      "Target_column = x00\n",
      "Mean squared error for train data = 6.075443255255235e-05\n",
      "Mean absolute error for train data = 0.005724178299376267\n",
      "Mean squared error for test data = 0.00035139273938877277\n",
      "Mean absolute error for test data = 0.014541313208266743\n",
      "\n",
      "\n",
      "Target_column = x01\n",
      "Mean squared error for train data = 5.883119451271592e-05\n",
      "Mean absolute error for train data = 0.005654517995941327\n",
      "Mean squared error for test data = 0.0003491862951932623\n",
      "Mean absolute error for test data = 0.014602602124513031\n",
      "\n",
      "\n",
      "Target_column = x02\n",
      "Mean squared error for train data = 6.354107416947867e-05\n",
      "Mean absolute error for train data = 0.005840957266368068\n",
      "Mean squared error for test data = 0.000335690672911784\n",
      "Mean absolute error for test data = 0.014313945496061546\n",
      "\n",
      "\n",
      "Target_column = x03\n",
      "Mean squared error for train data = 5.973736670129185e-05\n",
      "Mean absolute error for train data = 0.005710867601988897\n",
      "Mean squared error for test data = 0.00036849921521842674\n",
      "Mean absolute error for test data = 0.014964269421604367\n",
      "\n",
      "\n",
      "Target_column = x04\n",
      "Mean squared error for train data = 6.069073834530925e-05\n",
      "Mean absolute error for train data = 0.005723208763602818\n",
      "Mean squared error for test data = 0.0003535221527763679\n",
      "Mean absolute error for test data = 0.014789511177857446\n",
      "\n",
      "\n",
      "Target_column = x05\n",
      "Mean squared error for train data = 6.120410272161631e-05\n",
      "Mean absolute error for train data = 0.005758799036808652\n",
      "Mean squared error for test data = 0.0003412554468048105\n",
      "Mean absolute error for test data = 0.014406000402119513\n",
      "\n",
      "\n",
      "Target_column = x10\n",
      "Mean squared error for train data = 9.740611480785751e-05\n",
      "Mean absolute error for train data = 0.007223314220326333\n",
      "Mean squared error for test data = 0.0005405095315400705\n",
      "Mean absolute error for test data = 0.018703665317575204\n",
      "\n",
      "\n",
      "Target_column = x11\n",
      "Mean squared error for train data = 7.201472331776613e-05\n",
      "Mean absolute error for train data = 0.0061984679442076375\n",
      "Mean squared error for test data = 0.00044163763729053153\n",
      "Mean absolute error for test data = 0.016249400048324616\n",
      "\n",
      "\n",
      "Target_column = x12\n",
      "Mean squared error for train data = 6.887109175872829e-05\n",
      "Mean absolute error for train data = 0.006126937256363125\n",
      "Mean squared error for test data = 0.00037468671555624213\n",
      "Mean absolute error for test data = 0.015227511239490513\n",
      "\n",
      "\n",
      "Target_column = x13\n",
      "Mean squared error for train data = 6.85132445016087e-05\n",
      "Mean absolute error for train data = 0.006035974791936528\n",
      "Mean squared error for test data = 0.00038244130933628474\n",
      "Mean absolute error for test data = 0.01518833812578688\n",
      "\n",
      "\n",
      "Target_column = x14\n",
      "Mean squared error for train data = 7.570627508292064e-05\n",
      "Mean absolute error for train data = 0.006320223689172488\n",
      "Mean squared error for test data = 0.00040159926596861805\n",
      "Mean absolute error for test data = 0.01582173665976025\n",
      "\n",
      "\n",
      "Target_column = x15\n",
      "Mean squared error for train data = 7.602792250132553e-05\n",
      "Mean absolute error for train data = 0.0063936196760278384\n",
      "Mean squared error for test data = 0.00045480072130831966\n",
      "Mean absolute error for test data = 0.016774870424705924\n",
      "\n",
      "\n",
      "Target_column = x20\n",
      "Mean squared error for train data = 9.59485697576204e-05\n",
      "Mean absolute error for train data = 0.00730039012032261\n",
      "Mean squared error for test data = 0.000548034178916215\n",
      "Mean absolute error for test data = 0.01863546542797189\n",
      "\n",
      "\n",
      "Target_column = x21\n",
      "Mean squared error for train data = 7.283337410136738e-05\n",
      "Mean absolute error for train data = 0.006281119903625589\n",
      "Mean squared error for test data = 0.0004369267542579303\n",
      "Mean absolute error for test data = 0.016287513687686554\n",
      "\n",
      "\n",
      "Target_column = x22\n",
      "Mean squared error for train data = 6.987394058179996e-05\n",
      "Mean absolute error for train data = 0.006066177824558684\n",
      "Mean squared error for test data = 0.0003949604894131814\n",
      "Mean absolute error for test data = 0.015534152560030247\n",
      "\n",
      "\n",
      "Target_column = x23\n",
      "Mean squared error for train data = 6.916241989972602e-05\n",
      "Mean absolute error for train data = 0.006064468486984829\n",
      "Mean squared error for test data = 0.00039680323222824763\n",
      "Mean absolute error for test data = 0.01557902107670968\n",
      "\n",
      "\n",
      "Target_column = x24\n",
      "Mean squared error for train data = 7.447245337348065e-05\n",
      "Mean absolute error for train data = 0.0062653495422106565\n",
      "Mean squared error for test data = 0.00043086574923887044\n",
      "Mean absolute error for test data = 0.016218083918611754\n",
      "\n",
      "\n",
      "Target_column = x25\n",
      "Mean squared error for train data = 7.566316843596835e-05\n",
      "Mean absolute error for train data = 0.006335205263978156\n",
      "Mean squared error for test data = 0.0004693022229466658\n",
      "Mean absolute error for test data = 0.01698707837653576\n",
      "\n",
      "\n",
      "Target_column = x30\n",
      "Mean squared error for train data = 9.134636278743432e-05\n",
      "Mean absolute error for train data = 0.006998003740419919\n",
      "Mean squared error for test data = 0.0005542784727584295\n",
      "Mean absolute error for test data = 0.01859810187568147\n",
      "\n",
      "\n",
      "Target_column = x31\n",
      "Mean squared error for train data = 7.05699417413483e-05\n",
      "Mean absolute error for train data = 0.00617777205480407\n",
      "Mean squared error for test data = 0.00044260115003456126\n",
      "Mean absolute error for test data = 0.016610983496267648\n",
      "\n",
      "\n",
      "Target_column = x32\n",
      "Mean squared error for train data = 6.671583836601858e-05\n",
      "Mean absolute error for train data = 0.006043415405582396\n",
      "Mean squared error for test data = 0.00039807372902811856\n",
      "Mean absolute error for test data = 0.01565622434308585\n",
      "\n",
      "\n",
      "Target_column = x33\n",
      "Mean squared error for train data = 7.410143224935327e-05\n",
      "Mean absolute error for train data = 0.006292610489306263\n",
      "Mean squared error for test data = 0.00041368199363304287\n",
      "Mean absolute error for test data = 0.015864200667771673\n",
      "\n",
      "\n",
      "Target_column = x34\n",
      "Mean squared error for train data = 7.013354261635796e-05\n",
      "Mean absolute error for train data = 0.0061304437625357144\n",
      "Mean squared error for test data = 0.0004210555382337082\n",
      "Mean absolute error for test data = 0.015800646118659792\n",
      "\n",
      "\n",
      "Target_column = x35\n",
      "Mean squared error for train data = 7.860818084773745e-05\n",
      "Mean absolute error for train data = 0.006483353717404064\n",
      "Mean squared error for test data = 0.00039175701500747027\n",
      "Mean absolute error for test data = 0.015583869100484473\n",
      "\n",
      "\n",
      "Target_column = x40\n",
      "Mean squared error for train data = 9.538211888778893e-05\n",
      "Mean absolute error for train data = 0.007149857619248782\n",
      "Mean squared error for test data = 0.0005795259603385793\n",
      "Mean absolute error for test data = 0.01908573870481039\n",
      "\n",
      "\n",
      "Target_column = x41\n",
      "Mean squared error for train data = 6.910283675749672e-05\n",
      "Mean absolute error for train data = 0.006067201706400127\n",
      "Mean squared error for test data = 0.00040410077737799884\n",
      "Mean absolute error for test data = 0.01565966148632747\n",
      "\n",
      "\n",
      "Target_column = x42\n",
      "Mean squared error for train data = 6.983459876149404e-05\n",
      "Mean absolute error for train data = 0.006103568790712876\n",
      "Mean squared error for test data = 0.0003886539949376293\n",
      "Mean absolute error for test data = 0.01532965491687375\n",
      "\n",
      "\n",
      "Target_column = x43\n",
      "Mean squared error for train data = 7.206717556036709e-05\n",
      "Mean absolute error for train data = 0.006199679941375935\n",
      "Mean squared error for test data = 0.00039828146612563793\n",
      "Mean absolute error for test data = 0.01569692902393319\n",
      "\n",
      "\n",
      "Target_column = x44\n",
      "Mean squared error for train data = 6.962422317308533e-05\n",
      "Mean absolute error for train data = 0.006095373587261721\n",
      "Mean squared error for test data = 0.00041164610115570723\n",
      "Mean absolute error for test data = 0.015797065087737712\n",
      "\n",
      "\n",
      "Target_column = x45\n",
      "Mean squared error for train data = 6.749974443386655e-05\n",
      "Mean absolute error for train data = 0.006046686808586204\n",
      "Mean squared error for test data = 0.00039769858340058743\n",
      "Mean absolute error for test data = 0.01568518854255006\n",
      "\n",
      "\n",
      "Target_column = x50\n",
      "Mean squared error for train data = 9.798252962683958e-05\n",
      "Mean absolute error for train data = 0.007279043966702215\n",
      "Mean squared error for test data = 0.0005547819281595473\n",
      "Mean absolute error for test data = 0.01899926274542059\n",
      "\n",
      "\n",
      "Target_column = x51\n",
      "Mean squared error for train data = 6.926760122564082e-05\n",
      "Mean absolute error for train data = 0.006074014719426761\n",
      "Mean squared error for test data = 0.00038069636309122845\n",
      "Mean absolute error for test data = 0.015169492485051068\n",
      "\n",
      "\n",
      "Target_column = x52\n",
      "Mean squared error for train data = 6.849973864862593e-05\n",
      "Mean absolute error for train data = 0.006162397901029306\n",
      "Mean squared error for test data = 0.0003766435630668739\n",
      "Mean absolute error for test data = 0.015174428872090959\n",
      "\n",
      "\n",
      "Target_column = x53\n",
      "Mean squared error for train data = 7.41846969144388e-05\n",
      "Mean absolute error for train data = 0.006260958718328655\n",
      "Mean squared error for test data = 0.00043727456077524344\n",
      "Mean absolute error for test data = 0.016222816902416812\n",
      "\n",
      "\n",
      "Target_column = x54\n",
      "Mean squared error for train data = 6.455316936486124e-05\n",
      "Mean absolute error for train data = 0.005843329616027148\n",
      "Mean squared error for test data = 0.00039395281757616463\n",
      "Mean absolute error for test data = 0.015393432382723421\n",
      "\n",
      "\n",
      "Target_column = x55\n",
      "Mean squared error for train data = 7.25152390012633e-05\n",
      "Mean absolute error for train data = 0.0062627714789389765\n",
      "Mean squared error for test data = 0.0003823643726295006\n",
      "Mean absolute error for test data = 0.01547343113792529\n",
      "\n",
      "\n",
      "Target_column = y00\n",
      "Mean squared error for train data = 6.248324288713462e-05\n",
      "Mean absolute error for train data = 0.005794048775382881\n",
      "Mean squared error for test data = 0.00035721142706266525\n",
      "Mean absolute error for test data = 0.014828087541868908\n",
      "\n",
      "\n",
      "Target_column = y01\n",
      "Mean squared error for train data = 6.230658102606604e-05\n",
      "Mean absolute error for train data = 0.005777465929001466\n",
      "Mean squared error for test data = 0.00035389318019906843\n",
      "Mean absolute error for test data = 0.01467812630291584\n",
      "\n",
      "\n",
      "Target_column = y02\n",
      "Mean squared error for train data = 6.243357587423082e-05\n",
      "Mean absolute error for train data = 0.005822540875695166\n",
      "Mean squared error for test data = 0.00034519966993963456\n",
      "Mean absolute error for test data = 0.01458789538011634\n",
      "\n",
      "\n",
      "Target_column = y03\n",
      "Mean squared error for train data = 6.143998249940144e-05\n",
      "Mean absolute error for train data = 0.005765106076502376\n",
      "Mean squared error for test data = 0.00035272684984019424\n",
      "Mean absolute error for test data = 0.014735415862458048\n",
      "\n",
      "\n",
      "Target_column = y04\n",
      "Mean squared error for train data = 6.202673253210552e-05\n",
      "Mean absolute error for train data = 0.0057509563746002855\n",
      "Mean squared error for test data = 0.00032748174935660104\n",
      "Mean absolute error for test data = 0.014056169796957887\n",
      "\n",
      "\n",
      "Target_column = y05\n",
      "Mean squared error for train data = 6.433694215340487e-05\n",
      "Mean absolute error for train data = 0.005833437735493513\n",
      "Mean squared error for test data = 0.0003353664266697978\n",
      "Mean absolute error for test data = 0.014277122888960195\n",
      "\n",
      "\n",
      "Target_column = y10\n",
      "Mean squared error for train data = 9.212205651068851e-05\n",
      "Mean absolute error for train data = 0.007150983355430382\n",
      "Mean squared error for test data = 0.0005365816156169144\n",
      "Mean absolute error for test data = 0.018479616437900727\n",
      "\n",
      "\n",
      "Target_column = y11\n",
      "Mean squared error for train data = 7.168207129469397e-05\n",
      "Mean absolute error for train data = 0.006200878697308131\n",
      "Mean squared error for test data = 0.0004066927159260901\n",
      "Mean absolute error for test data = 0.015890496694150755\n",
      "\n",
      "\n",
      "Target_column = y12\n",
      "Mean squared error for train data = 6.937364526426082e-05\n",
      "Mean absolute error for train data = 0.006114095072482302\n",
      "Mean squared error for test data = 0.0004145742582441727\n",
      "Mean absolute error for test data = 0.015862564675869672\n",
      "\n",
      "\n",
      "Target_column = y13\n",
      "Mean squared error for train data = 6.575871327628422e-05\n",
      "Mean absolute error for train data = 0.005977172939234529\n",
      "Mean squared error for test data = 0.00044255073757418185\n",
      "Mean absolute error for test data = 0.01641133004754013\n",
      "\n",
      "\n",
      "Target_column = y14\n",
      "Mean squared error for train data = 7.62801093765706e-05\n",
      "Mean absolute error for train data = 0.006331276537253815\n",
      "Mean squared error for test data = 0.0004374258231731834\n",
      "Mean absolute error for test data = 0.01635522473922969\n",
      "\n",
      "\n",
      "Target_column = y15\n",
      "Mean squared error for train data = 7.841992453933845e-05\n",
      "Mean absolute error for train data = 0.006454575915473683\n",
      "Mean squared error for test data = 0.0004499420751386038\n",
      "Mean absolute error for test data = 0.016554250012968633\n",
      "\n",
      "\n",
      "Target_column = y20\n",
      "Mean squared error for train data = 9.751885977843474e-05\n",
      "Mean absolute error for train data = 0.007233328253798531\n",
      "Mean squared error for test data = 0.0005525136455963714\n",
      "Mean absolute error for test data = 0.018594346299103538\n",
      "\n",
      "\n",
      "Target_column = y21\n",
      "Mean squared error for train data = 7.283993078664098e-05\n",
      "Mean absolute error for train data = 0.0063246945141099695\n",
      "Mean squared error for test data = 0.0003986445064392851\n",
      "Mean absolute error for test data = 0.015853125219291334\n",
      "\n",
      "\n",
      "Target_column = y22\n",
      "Mean squared error for train data = 7.223960979980849e-05\n",
      "Mean absolute error for train data = 0.0062866473633050625\n",
      "Mean squared error for test data = 0.00041120264664235896\n",
      "Mean absolute error for test data = 0.016028993091903976\n",
      "\n",
      "\n",
      "Target_column = y23\n",
      "Mean squared error for train data = 7.11468977841016e-05\n",
      "Mean absolute error for train data = 0.006146409229326104\n",
      "Mean squared error for test data = 0.00039352147404877514\n",
      "Mean absolute error for test data = 0.015480957043325048\n",
      "\n",
      "\n",
      "Target_column = y24\n",
      "Mean squared error for train data = 7.903282570653692e-05\n",
      "Mean absolute error for train data = 0.006541008784445291\n",
      "Mean squared error for test data = 0.0004501823343722077\n",
      "Mean absolute error for test data = 0.016808418624954795\n",
      "\n",
      "\n",
      "Target_column = y25\n",
      "Mean squared error for train data = 7.707776974079748e-05\n",
      "Mean absolute error for train data = 0.006474080033014705\n",
      "Mean squared error for test data = 0.0004813774497935268\n",
      "Mean absolute error for test data = 0.01734437134325781\n",
      "\n",
      "\n",
      "Target_column = y30\n",
      "Mean squared error for train data = 9.867335430187131e-05\n",
      "Mean absolute error for train data = 0.00738982499403989\n",
      "Mean squared error for test data = 0.0006059394166761084\n",
      "Mean absolute error for test data = 0.01975454778718379\n",
      "\n",
      "\n",
      "Target_column = y31\n",
      "Mean squared error for train data = 7.145606328554301e-05\n",
      "Mean absolute error for train data = 0.0061614617710749045\n",
      "Mean squared error for test data = 0.0003768926184355457\n",
      "Mean absolute error for test data = 0.01525089294727459\n",
      "\n",
      "\n",
      "Target_column = y32\n",
      "Mean squared error for train data = 6.997970928663899e-05\n",
      "Mean absolute error for train data = 0.006096333470693312\n",
      "Mean squared error for test data = 0.0003932441098868428\n",
      "Mean absolute error for test data = 0.015565358469600655\n",
      "\n",
      "\n",
      "Target_column = y33\n",
      "Mean squared error for train data = 7.206458762613173e-05\n",
      "Mean absolute error for train data = 0.006211920753200022\n",
      "Mean squared error for test data = 0.0004189717424505185\n",
      "Mean absolute error for test data = 0.0161177857645322\n",
      "\n",
      "\n",
      "Target_column = y34\n",
      "Mean squared error for train data = 7.169677482324247e-05\n",
      "Mean absolute error for train data = 0.006174746316339941\n",
      "Mean squared error for test data = 0.00046527478303665494\n",
      "Mean absolute error for test data = 0.017051504786469888\n",
      "\n",
      "\n",
      "Target_column = y35\n",
      "Mean squared error for train data = 7.274621459473728e-05\n",
      "Mean absolute error for train data = 0.006217263057715043\n",
      "Mean squared error for test data = 0.0004026037472730634\n",
      "Mean absolute error for test data = 0.015800575724354476\n",
      "\n",
      "\n",
      "Target_column = y40\n",
      "Mean squared error for train data = 9.844854680801655e-05\n",
      "Mean absolute error for train data = 0.0072546118672066635\n",
      "Mean squared error for test data = 0.0005496884813565925\n",
      "Mean absolute error for test data = 0.018549233672206334\n",
      "\n",
      "\n",
      "Target_column = y41\n",
      "Mean squared error for train data = 6.862638987546937e-05\n",
      "Mean absolute error for train data = 0.00606092471679718\n",
      "Mean squared error for test data = 0.00042171786633255723\n",
      "Mean absolute error for test data = 0.01601271954770059\n",
      "\n",
      "\n",
      "Target_column = y42\n",
      "Mean squared error for train data = 6.616715915735783e-05\n",
      "Mean absolute error for train data = 0.006013085532151976\n",
      "Mean squared error for test data = 0.0004198479779137939\n",
      "Mean absolute error for test data = 0.016001704705239754\n",
      "\n",
      "\n",
      "Target_column = y43\n",
      "Mean squared error for train data = 6.916569914423841e-05\n",
      "Mean absolute error for train data = 0.006119531657969513\n",
      "Mean squared error for test data = 0.00040940503632370766\n",
      "Mean absolute error for test data = 0.015679994573883523\n",
      "\n",
      "\n",
      "Target_column = y44\n",
      "Mean squared error for train data = 7.299361278927631e-05\n",
      "Mean absolute error for train data = 0.006287834668853582\n",
      "Mean squared error for test data = 0.00039684833083878697\n",
      "Mean absolute error for test data = 0.015434898303039147\n",
      "\n",
      "\n",
      "Target_column = y45\n",
      "Mean squared error for train data = 6.561529938040502e-05\n",
      "Mean absolute error for train data = 0.005931073745998389\n",
      "Mean squared error for test data = 0.00037897925954473666\n",
      "Mean absolute error for test data = 0.015408312835513551\n",
      "\n",
      "\n",
      "Target_column = y50\n",
      "Mean squared error for train data = 9.961242850230353e-05\n",
      "Mean absolute error for train data = 0.007323270508621807\n",
      "Mean squared error for test data = 0.0005617565288669037\n",
      "Mean absolute error for test data = 0.018742008557371917\n",
      "\n",
      "\n",
      "Target_column = y51\n",
      "Mean squared error for train data = 7.170625912469389e-05\n",
      "Mean absolute error for train data = 0.006090372710094303\n",
      "Mean squared error for test data = 0.00039600539429296715\n",
      "Mean absolute error for test data = 0.015253161229986835\n",
      "\n",
      "\n",
      "Target_column = y52\n",
      "Mean squared error for train data = 6.778146516075901e-05\n",
      "Mean absolute error for train data = 0.006058622877402458\n",
      "Mean squared error for test data = 0.00039428304618057124\n",
      "Mean absolute error for test data = 0.015569288534767524\n",
      "\n",
      "\n",
      "Target_column = y53\n",
      "Mean squared error for train data = 7.572342049831284e-05\n",
      "Mean absolute error for train data = 0.006364686295155666\n",
      "Mean squared error for test data = 0.00043846576279615835\n",
      "Mean absolute error for test data = 0.016469321974434504\n",
      "\n",
      "\n",
      "Target_column = y54\n",
      "Mean squared error for train data = 6.789236639922076e-05\n",
      "Mean absolute error for train data = 0.006027326559496464\n",
      "Mean squared error for test data = 0.0003787763671349212\n",
      "Mean absolute error for test data = 0.015245483829043593\n",
      "\n",
      "\n",
      "Target_column = y55\n",
      "Mean squared error for train data = 7.367438876624184e-05\n",
      "Mean absolute error for train data = 0.006286123028440009\n",
      "Mean squared error for test data = 0.00040739302814557136\n",
      "Mean absolute error for test data = 0.016034058756306983\n",
      "\n",
      "\n",
      "Target_column = z00\n",
      "Mean squared error for train data = 6.177966586157509e-05\n",
      "Mean absolute error for train data = 0.005782375892790188\n",
      "Mean squared error for test data = 0.00036191859100979717\n",
      "Mean absolute error for test data = 0.014709134136483422\n",
      "\n",
      "\n",
      "Target_column = z01\n",
      "Mean squared error for train data = 6.142328064395818e-05\n",
      "Mean absolute error for train data = 0.005763953079655627\n",
      "Mean squared error for test data = 0.00035730819065242004\n",
      "Mean absolute error for test data = 0.01494313714273941\n",
      "\n",
      "\n",
      "Target_column = z02\n",
      "Mean squared error for train data = 6.306455690266736e-05\n",
      "Mean absolute error for train data = 0.005833287060306546\n",
      "Mean squared error for test data = 0.00034899837004988765\n",
      "Mean absolute error for test data = 0.014707848439935962\n",
      "\n",
      "\n",
      "Target_column = z03\n",
      "Mean squared error for train data = 5.9694707511967634e-05\n",
      "Mean absolute error for train data = 0.005703302349590763\n",
      "Mean squared error for test data = 0.00035613529279849605\n",
      "Mean absolute error for test data = 0.014646301164308245\n",
      "\n",
      "\n",
      "Target_column = z04\n",
      "Mean squared error for train data = 5.973299773925705e-05\n",
      "Mean absolute error for train data = 0.005723735934001862\n",
      "Mean squared error for test data = 0.00035432725928389913\n",
      "Mean absolute error for test data = 0.014711247878859194\n",
      "\n",
      "\n",
      "Target_column = z05\n",
      "Mean squared error for train data = 5.891227350775397e-05\n",
      "Mean absolute error for train data = 0.005637835030525031\n",
      "Mean squared error for test data = 0.00032377031118472135\n",
      "Mean absolute error for test data = 0.013964346415522187\n",
      "\n",
      "\n",
      "Target_column = z10\n",
      "Mean squared error for train data = 9.491302960349758e-05\n",
      "Mean absolute error for train data = 0.007203869296229961\n",
      "Mean squared error for test data = 0.0006151784458296609\n",
      "Mean absolute error for test data = 0.019729893180248845\n",
      "\n",
      "\n",
      "Target_column = z11\n",
      "Mean squared error for train data = 7.076578628325594e-05\n",
      "Mean absolute error for train data = 0.006104859865190407\n",
      "Mean squared error for test data = 0.0003950611969799035\n",
      "Mean absolute error for test data = 0.015309587607660869\n",
      "\n",
      "\n",
      "Target_column = z12\n",
      "Mean squared error for train data = 7.012813211217521e-05\n",
      "Mean absolute error for train data = 0.006086755358446822\n",
      "Mean squared error for test data = 0.00042057597839643144\n",
      "Mean absolute error for test data = 0.015993665026266805\n",
      "\n",
      "\n",
      "Target_column = z13\n",
      "Mean squared error for train data = 7.383482564537405e-05\n",
      "Mean absolute error for train data = 0.006216671770814693\n",
      "Mean squared error for test data = 0.0004279098222858783\n",
      "Mean absolute error for test data = 0.016025923328152163\n",
      "\n",
      "\n",
      "Target_column = z14\n",
      "Mean squared error for train data = 8.057323058322077e-05\n",
      "Mean absolute error for train data = 0.006544273496674128\n",
      "Mean squared error for test data = 0.0004570143379875695\n",
      "Mean absolute error for test data = 0.016771065057897206\n",
      "\n",
      "\n",
      "Target_column = z15\n",
      "Mean squared error for train data = 7.983184175557804e-05\n",
      "Mean absolute error for train data = 0.006578196154008653\n",
      "Mean squared error for test data = 0.00048055111389831863\n",
      "Mean absolute error for test data = 0.017193455789015887\n",
      "\n",
      "\n",
      "Target_column = z20\n",
      "Mean squared error for train data = 0.00010062363495282831\n",
      "Mean absolute error for train data = 0.007364536041636331\n",
      "Mean squared error for test data = 0.0005744730034266194\n",
      "Mean absolute error for test data = 0.018872420853259263\n",
      "\n",
      "\n",
      "Target_column = z21\n",
      "Mean squared error for train data = 7.79634106543747e-05\n",
      "Mean absolute error for train data = 0.006429674224040564\n",
      "Mean squared error for test data = 0.00043255530686876965\n",
      "Mean absolute error for test data = 0.01652800784302552\n",
      "\n",
      "\n",
      "Target_column = z22\n",
      "Mean squared error for train data = 6.759562278529652e-05\n",
      "Mean absolute error for train data = 0.0059907657521686185\n",
      "Mean squared error for test data = 0.0003955201754943092\n",
      "Mean absolute error for test data = 0.015284711788151679\n",
      "\n",
      "\n",
      "Target_column = z23\n",
      "Mean squared error for train data = 7.122471867672301e-05\n",
      "Mean absolute error for train data = 0.006134455347819304\n",
      "Mean squared error for test data = 0.0004460402621025118\n",
      "Mean absolute error for test data = 0.01618721716581935\n",
      "\n",
      "\n",
      "Target_column = z24\n",
      "Mean squared error for train data = 8.00291871007331e-05\n",
      "Mean absolute error for train data = 0.006475356683314056\n",
      "Mean squared error for test data = 0.00047694521009519894\n",
      "Mean absolute error for test data = 0.017000922896845343\n",
      "\n",
      "\n",
      "Target_column = z25\n",
      "Mean squared error for train data = 7.852983550648093e-05\n",
      "Mean absolute error for train data = 0.006477933102886379\n",
      "Mean squared error for test data = 0.0005029171313683583\n",
      "Mean absolute error for test data = 0.017644585649234847\n",
      "\n",
      "\n",
      "Target_column = z30\n",
      "Mean squared error for train data = 9.416271385936535e-05\n",
      "Mean absolute error for train data = 0.007202491379191203\n",
      "Mean squared error for test data = 0.0005233276144620581\n",
      "Mean absolute error for test data = 0.01822195548201821\n",
      "\n",
      "\n",
      "Target_column = z31\n",
      "Mean squared error for train data = 7.834597593471294e-05\n",
      "Mean absolute error for train data = 0.006427239549810532\n",
      "Mean squared error for test data = 0.0004290376610997556\n",
      "Mean absolute error for test data = 0.016092293751200738\n",
      "\n",
      "\n",
      "Target_column = z32\n",
      "Mean squared error for train data = 7.03808300749192e-05\n",
      "Mean absolute error for train data = 0.006076805503650686\n",
      "Mean squared error for test data = 0.00038753762093862834\n",
      "Mean absolute error for test data = 0.015492852455252719\n",
      "\n",
      "\n",
      "Target_column = z33\n",
      "Mean squared error for train data = 7.36666378320072e-05\n",
      "Mean absolute error for train data = 0.006208016642007495\n",
      "Mean squared error for test data = 0.00041427842472057535\n",
      "Mean absolute error for test data = 0.015856385415089772\n",
      "\n",
      "\n",
      "Target_column = z34\n",
      "Mean squared error for train data = 7.492761733585908e-05\n",
      "Mean absolute error for train data = 0.006331827853285662\n",
      "Mean squared error for test data = 0.00044137176204222086\n",
      "Mean absolute error for test data = 0.016511609214871867\n",
      "\n",
      "\n",
      "Target_column = z35\n",
      "Mean squared error for train data = 7.65733038366703e-05\n",
      "Mean absolute error for train data = 0.006354120564849257\n",
      "Mean squared error for test data = 0.0004452118967760809\n",
      "Mean absolute error for test data = 0.01650611636524852\n",
      "\n",
      "\n",
      "Target_column = z40\n",
      "Mean squared error for train data = 9.626306014744618e-05\n",
      "Mean absolute error for train data = 0.007270603071166592\n",
      "Mean squared error for test data = 0.0005466713451024119\n",
      "Mean absolute error for test data = 0.018587433469115355\n",
      "\n",
      "\n",
      "Target_column = z41\n",
      "Mean squared error for train data = 7.76419401858238e-05\n",
      "Mean absolute error for train data = 0.006391191876561066\n",
      "Mean squared error for test data = 0.0004326762020058558\n",
      "Mean absolute error for test data = 0.0164769420696325\n",
      "\n",
      "\n",
      "Target_column = z42\n",
      "Mean squared error for train data = 7.220621887387555e-05\n",
      "Mean absolute error for train data = 0.006186097996815013\n",
      "Mean squared error for test data = 0.0003943045650943107\n",
      "Mean absolute error for test data = 0.015557831116385118\n",
      "\n",
      "\n",
      "Target_column = z43\n",
      "Mean squared error for train data = 7.291083091925825e-05\n",
      "Mean absolute error for train data = 0.006199722477519981\n",
      "Mean squared error for test data = 0.00043201787068745766\n",
      "Mean absolute error for test data = 0.016091475338142723\n",
      "\n",
      "\n",
      "Target_column = z44\n",
      "Mean squared error for train data = 7.263475883660345e-05\n",
      "Mean absolute error for train data = 0.006185885132773288\n",
      "Mean squared error for test data = 0.00043758564475603263\n",
      "Mean absolute error for test data = 0.016275027820794537\n",
      "\n",
      "\n",
      "Target_column = z45\n",
      "Mean squared error for train data = 7.72831021937283e-05\n",
      "Mean absolute error for train data = 0.006368001866265975\n",
      "Mean squared error for test data = 0.0004191022207376927\n",
      "Mean absolute error for test data = 0.01583947619858841\n",
      "\n",
      "\n",
      "Target_column = z50\n",
      "Mean squared error for train data = 9.601602211177843e-05\n",
      "Mean absolute error for train data = 0.007215937812118772\n",
      "Mean squared error for test data = 0.000563345851084551\n",
      "Mean absolute error for test data = 0.01864401732069934\n",
      "\n",
      "\n",
      "Target_column = z51\n",
      "Mean squared error for train data = 7.874928484752487e-05\n",
      "Mean absolute error for train data = 0.006449500558843201\n",
      "Mean squared error for test data = 0.0004458614766879134\n",
      "Mean absolute error for test data = 0.016520901091746063\n",
      "\n",
      "\n",
      "Target_column = z52\n",
      "Mean squared error for train data = 7.336066767742088e-05\n",
      "Mean absolute error for train data = 0.006144148430891463\n",
      "Mean squared error for test data = 0.0004730939865709529\n",
      "Mean absolute error for test data = 0.016731279257697514\n",
      "\n",
      "\n",
      "Target_column = z53\n",
      "Mean squared error for train data = 7.596306578718656e-05\n",
      "Mean absolute error for train data = 0.0062914662967543215\n",
      "Mean squared error for test data = 0.00040503229226102966\n",
      "Mean absolute error for test data = 0.01567142540829584\n",
      "\n",
      "\n",
      "Target_column = z54\n",
      "Mean squared error for train data = 7.382233343544364e-05\n",
      "Mean absolute error for train data = 0.006329350059063367\n",
      "Mean squared error for test data = 0.00041417368375689783\n",
      "Mean absolute error for test data = 0.015629432029989444\n",
      "\n",
      "\n",
      "Target_column = z55\n",
      "Mean squared error for train data = 7.363720122075191e-05\n",
      "Mean absolute error for train data = 0.006249389271942023\n",
      "Mean squared error for test data = 0.00041480423411247865\n",
      "Mean absolute error for test data = 0.015894471782195625\n"
     ]
    }
   ],
   "source": [
    "for feature in target_features:\n",
    "    scaler, model = return_model_and_scaler(feature)\n",
    "    scaler_dict[feature] = scaler\n",
    "    model_dict[feature] = model"
   ]
  },
  {
   "cell_type": "markdown",
   "id": "1044c900",
   "metadata": {
    "papermill": {
     "duration": 0.030447,
     "end_time": "2025-07-18T03:24:35.466793",
     "exception": false,
     "start_time": "2025-07-18T03:24:35.436346",
     "status": "completed"
    },
    "tags": []
   },
   "source": [
    "## 5. Saving"
   ]
  },
  {
   "cell_type": "code",
   "execution_count": 59,
   "id": "852b05e7",
   "metadata": {
    "execution": {
     "iopub.execute_input": "2025-07-18T03:24:35.532296Z",
     "iopub.status.busy": "2025-07-18T03:24:35.531725Z",
     "iopub.status.idle": "2025-07-18T03:24:36.909468Z",
     "shell.execute_reply": "2025-07-18T03:24:36.908793Z"
    },
    "papermill": {
     "duration": 1.412779,
     "end_time": "2025-07-18T03:24:36.911286",
     "exception": false,
     "start_time": "2025-07-18T03:24:35.498507",
     "status": "completed"
    },
    "tags": []
   },
   "outputs": [],
   "source": [
    "for feature in target_features:\n",
    "    joblib.dump(model_dict[feature], f\"/kaggle/working/model_{feature}.joblib\")"
   ]
  },
  {
   "cell_type": "code",
   "execution_count": 60,
   "id": "bc513edc",
   "metadata": {
    "execution": {
     "iopub.execute_input": "2025-07-18T03:24:36.972445Z",
     "iopub.status.busy": "2025-07-18T03:24:36.971531Z",
     "iopub.status.idle": "2025-07-18T03:24:37.094825Z",
     "shell.execute_reply": "2025-07-18T03:24:37.094101Z"
    },
    "papermill": {
     "duration": 0.154449,
     "end_time": "2025-07-18T03:24:37.096507",
     "exception": false,
     "start_time": "2025-07-18T03:24:36.942058",
     "status": "completed"
    },
    "tags": []
   },
   "outputs": [],
   "source": [
    "for feature in target_features:\n",
    "    joblib.dump(scaler_dict[feature], f\"/kaggle/working/scaler_{feature}.joblib\")"
   ]
  },
  {
   "cell_type": "code",
   "execution_count": 61,
   "id": "f8977623",
   "metadata": {
    "execution": {
     "iopub.execute_input": "2025-07-18T03:24:37.156042Z",
     "iopub.status.busy": "2025-07-18T03:24:37.155681Z",
     "iopub.status.idle": "2025-07-18T03:24:52.437344Z",
     "shell.execute_reply": "2025-07-18T03:24:52.436450Z"
    },
    "papermill": {
     "duration": 15.313098,
     "end_time": "2025-07-18T03:24:52.439212",
     "exception": false,
     "start_time": "2025-07-18T03:24:37.126114",
     "status": "completed"
    },
    "tags": []
   },
   "outputs": [],
   "source": [
    "df_train.to_csv(\"/kaggle/working/df_train.csv\", index=None)\n",
    "df_test.to_csv(\"/kaggle/working/df_test.csv\", index=None)"
   ]
  },
  {
   "cell_type": "code",
   "execution_count": 62,
   "id": "9d16dac1",
   "metadata": {
    "execution": {
     "iopub.execute_input": "2025-07-18T03:24:52.498818Z",
     "iopub.status.busy": "2025-07-18T03:24:52.498476Z",
     "iopub.status.idle": "2025-07-18T03:24:53.723665Z",
     "shell.execute_reply": "2025-07-18T03:24:53.722775Z"
    },
    "papermill": {
     "duration": 1.256548,
     "end_time": "2025-07-18T03:24:53.725346",
     "exception": false,
     "start_time": "2025-07-18T03:24:52.468798",
     "status": "completed"
    },
    "tags": []
   },
   "outputs": [],
   "source": [
    "import zipfile\n",
    "with zipfile.ZipFile(\"/kaggle/working/models.zip\", \"w\") as zipf:\n",
    "    for feature in target_features:\n",
    "        zipf.write(f\"/kaggle/working/model_{feature}.joblib\")"
   ]
  },
  {
   "cell_type": "code",
   "execution_count": 63,
   "id": "f080e4cc",
   "metadata": {
    "execution": {
     "iopub.execute_input": "2025-07-18T03:24:53.784501Z",
     "iopub.status.busy": "2025-07-18T03:24:53.783694Z",
     "iopub.status.idle": "2025-07-18T03:24:53.835490Z",
     "shell.execute_reply": "2025-07-18T03:24:53.834445Z"
    },
    "papermill": {
     "duration": 0.083129,
     "end_time": "2025-07-18T03:24:53.837298",
     "exception": false,
     "start_time": "2025-07-18T03:24:53.754169",
     "status": "completed"
    },
    "tags": []
   },
   "outputs": [],
   "source": [
    "with zipfile.ZipFile(\"/kaggle/working/scalers.zip\", \"w\") as zipf:\n",
    "    for feature in target_features:\n",
    "        zipf.write(f\"/kaggle/working/scaler_{feature}.joblib\")"
   ]
  }
 ],
 "metadata": {
  "kaggle": {
   "accelerator": "none",
   "dataSources": [
    {
     "sourceId": 251075634,
     "sourceType": "kernelVersion"
    }
   ],
   "dockerImageVersionId": 31089,
   "isGpuEnabled": false,
   "isInternetEnabled": false,
   "language": "python",
   "sourceType": "notebook"
  },
  "kernelspec": {
   "display_name": "Python 3",
   "language": "python",
   "name": "python3"
  },
  "language_info": {
   "codemirror_mode": {
    "name": "ipython",
    "version": 3
   },
   "file_extension": ".py",
   "mimetype": "text/x-python",
   "name": "python",
   "nbconvert_exporter": "python",
   "pygments_lexer": "ipython3",
   "version": "3.11.13"
  },
  "papermill": {
   "default_parameters": {},
   "duration": 15972.693923,
   "end_time": "2025-07-18T03:24:56.503724",
   "environment_variables": {},
   "exception": null,
   "input_path": "__notebook__.ipynb",
   "output_path": "__notebook__.ipynb",
   "parameters": {},
   "start_time": "2025-07-17T22:58:43.809801",
   "version": "2.6.0"
  }
 },
 "nbformat": 4,
 "nbformat_minor": 5
}
