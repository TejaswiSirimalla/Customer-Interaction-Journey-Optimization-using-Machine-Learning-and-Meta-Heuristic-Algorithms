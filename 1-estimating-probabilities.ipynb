{
 "cells": [
  {
   "cell_type": "code",
   "execution_count": 1,
   "id": "f036e5ab",
   "metadata": {
    "execution": {
     "iopub.execute_input": "2025-07-17T19:16:46.333518Z",
     "iopub.status.busy": "2025-07-17T19:16:46.332452Z",
     "iopub.status.idle": "2025-07-17T19:16:48.103691Z",
     "shell.execute_reply": "2025-07-17T19:16:48.102810Z"
    },
    "papermill": {
     "duration": 1.782147,
     "end_time": "2025-07-17T19:16:48.105332",
     "exception": false,
     "start_time": "2025-07-17T19:16:46.323185",
     "status": "completed"
    },
    "tags": []
   },
   "outputs": [],
   "source": [
    "import pandas as pd\n",
    "import numpy as np\n",
    "import random\n",
    "import warnings\n",
    "warnings.filterwarnings(action = 'ignore')\n",
    "random.seed(0)"
   ]
  },
  {
   "cell_type": "code",
   "execution_count": 2,
   "id": "b610391f",
   "metadata": {
    "execution": {
     "iopub.execute_input": "2025-07-17T19:16:48.116554Z",
     "iopub.status.busy": "2025-07-17T19:16:48.116199Z",
     "iopub.status.idle": "2025-07-17T19:16:48.344904Z",
     "shell.execute_reply": "2025-07-17T19:16:48.344151Z"
    },
    "papermill": {
     "duration": 0.235791,
     "end_time": "2025-07-17T19:16:48.346457",
     "exception": false,
     "start_time": "2025-07-17T19:16:48.110666",
     "status": "completed"
    },
    "tags": []
   },
   "outputs": [],
   "source": [
    "df = pd.read_csv(\"/kaggle/input/ibm-telco-11-1-3/telco.csv\", engine = \"python\")"
   ]
  },
  {
   "cell_type": "code",
   "execution_count": 3,
   "id": "407e9aeb",
   "metadata": {
    "execution": {
     "iopub.execute_input": "2025-07-17T19:16:48.357892Z",
     "iopub.status.busy": "2025-07-17T19:16:48.357510Z",
     "iopub.status.idle": "2025-07-17T19:16:48.389615Z",
     "shell.execute_reply": "2025-07-17T19:16:48.388850Z"
    },
    "papermill": {
     "duration": 0.039257,
     "end_time": "2025-07-17T19:16:48.390977",
     "exception": false,
     "start_time": "2025-07-17T19:16:48.351720",
     "status": "completed"
    },
    "tags": []
   },
   "outputs": [
    {
     "data": {
      "text/html": [
       "<div>\n",
       "<style scoped>\n",
       "    .dataframe tbody tr th:only-of-type {\n",
       "        vertical-align: middle;\n",
       "    }\n",
       "\n",
       "    .dataframe tbody tr th {\n",
       "        vertical-align: top;\n",
       "    }\n",
       "\n",
       "    .dataframe thead th {\n",
       "        text-align: right;\n",
       "    }\n",
       "</style>\n",
       "<table border=\"1\" class=\"dataframe\">\n",
       "  <thead>\n",
       "    <tr style=\"text-align: right;\">\n",
       "      <th></th>\n",
       "      <th>Customer ID</th>\n",
       "      <th>Gender</th>\n",
       "      <th>Age</th>\n",
       "      <th>Under 30</th>\n",
       "      <th>Senior Citizen</th>\n",
       "      <th>Married</th>\n",
       "      <th>Dependents</th>\n",
       "      <th>Number of Dependents</th>\n",
       "      <th>Country</th>\n",
       "      <th>State</th>\n",
       "      <th>...</th>\n",
       "      <th>Total Extra Data Charges</th>\n",
       "      <th>Total Long Distance Charges</th>\n",
       "      <th>Total Revenue</th>\n",
       "      <th>Satisfaction Score</th>\n",
       "      <th>Customer Status</th>\n",
       "      <th>Churn Label</th>\n",
       "      <th>Churn Score</th>\n",
       "      <th>CLTV</th>\n",
       "      <th>Churn Category</th>\n",
       "      <th>Churn Reason</th>\n",
       "    </tr>\n",
       "  </thead>\n",
       "  <tbody>\n",
       "    <tr>\n",
       "      <th>0</th>\n",
       "      <td>8779-QRDMV</td>\n",
       "      <td>Male</td>\n",
       "      <td>78</td>\n",
       "      <td>No</td>\n",
       "      <td>Yes</td>\n",
       "      <td>No</td>\n",
       "      <td>No</td>\n",
       "      <td>0</td>\n",
       "      <td>United States</td>\n",
       "      <td>California</td>\n",
       "      <td>...</td>\n",
       "      <td>20</td>\n",
       "      <td>0.00</td>\n",
       "      <td>59.65</td>\n",
       "      <td>3</td>\n",
       "      <td>Churned</td>\n",
       "      <td>Yes</td>\n",
       "      <td>91</td>\n",
       "      <td>5433</td>\n",
       "      <td>Competitor</td>\n",
       "      <td>Competitor offered more data</td>\n",
       "    </tr>\n",
       "    <tr>\n",
       "      <th>1</th>\n",
       "      <td>7495-OOKFY</td>\n",
       "      <td>Female</td>\n",
       "      <td>74</td>\n",
       "      <td>No</td>\n",
       "      <td>Yes</td>\n",
       "      <td>Yes</td>\n",
       "      <td>Yes</td>\n",
       "      <td>1</td>\n",
       "      <td>United States</td>\n",
       "      <td>California</td>\n",
       "      <td>...</td>\n",
       "      <td>0</td>\n",
       "      <td>390.80</td>\n",
       "      <td>1024.10</td>\n",
       "      <td>3</td>\n",
       "      <td>Churned</td>\n",
       "      <td>Yes</td>\n",
       "      <td>69</td>\n",
       "      <td>5302</td>\n",
       "      <td>Competitor</td>\n",
       "      <td>Competitor made better offer</td>\n",
       "    </tr>\n",
       "    <tr>\n",
       "      <th>2</th>\n",
       "      <td>1658-BYGOY</td>\n",
       "      <td>Male</td>\n",
       "      <td>71</td>\n",
       "      <td>No</td>\n",
       "      <td>Yes</td>\n",
       "      <td>No</td>\n",
       "      <td>Yes</td>\n",
       "      <td>3</td>\n",
       "      <td>United States</td>\n",
       "      <td>California</td>\n",
       "      <td>...</td>\n",
       "      <td>0</td>\n",
       "      <td>203.94</td>\n",
       "      <td>1910.88</td>\n",
       "      <td>2</td>\n",
       "      <td>Churned</td>\n",
       "      <td>Yes</td>\n",
       "      <td>81</td>\n",
       "      <td>3179</td>\n",
       "      <td>Competitor</td>\n",
       "      <td>Competitor made better offer</td>\n",
       "    </tr>\n",
       "    <tr>\n",
       "      <th>3</th>\n",
       "      <td>4598-XLKNJ</td>\n",
       "      <td>Female</td>\n",
       "      <td>78</td>\n",
       "      <td>No</td>\n",
       "      <td>Yes</td>\n",
       "      <td>Yes</td>\n",
       "      <td>Yes</td>\n",
       "      <td>1</td>\n",
       "      <td>United States</td>\n",
       "      <td>California</td>\n",
       "      <td>...</td>\n",
       "      <td>0</td>\n",
       "      <td>494.00</td>\n",
       "      <td>2995.07</td>\n",
       "      <td>2</td>\n",
       "      <td>Churned</td>\n",
       "      <td>Yes</td>\n",
       "      <td>88</td>\n",
       "      <td>5337</td>\n",
       "      <td>Dissatisfaction</td>\n",
       "      <td>Limited range of services</td>\n",
       "    </tr>\n",
       "    <tr>\n",
       "      <th>4</th>\n",
       "      <td>4846-WHAFZ</td>\n",
       "      <td>Female</td>\n",
       "      <td>80</td>\n",
       "      <td>No</td>\n",
       "      <td>Yes</td>\n",
       "      <td>Yes</td>\n",
       "      <td>Yes</td>\n",
       "      <td>1</td>\n",
       "      <td>United States</td>\n",
       "      <td>California</td>\n",
       "      <td>...</td>\n",
       "      <td>0</td>\n",
       "      <td>234.21</td>\n",
       "      <td>3102.36</td>\n",
       "      <td>2</td>\n",
       "      <td>Churned</td>\n",
       "      <td>Yes</td>\n",
       "      <td>67</td>\n",
       "      <td>2793</td>\n",
       "      <td>Price</td>\n",
       "      <td>Extra data charges</td>\n",
       "    </tr>\n",
       "  </tbody>\n",
       "</table>\n",
       "<p>5 rows × 50 columns</p>\n",
       "</div>"
      ],
      "text/plain": [
       "  Customer ID  Gender  Age Under 30 Senior Citizen Married Dependents  \\\n",
       "0  8779-QRDMV    Male   78       No            Yes      No         No   \n",
       "1  7495-OOKFY  Female   74       No            Yes     Yes        Yes   \n",
       "2  1658-BYGOY    Male   71       No            Yes      No        Yes   \n",
       "3  4598-XLKNJ  Female   78       No            Yes     Yes        Yes   \n",
       "4  4846-WHAFZ  Female   80       No            Yes     Yes        Yes   \n",
       "\n",
       "   Number of Dependents        Country       State  ...  \\\n",
       "0                     0  United States  California  ...   \n",
       "1                     1  United States  California  ...   \n",
       "2                     3  United States  California  ...   \n",
       "3                     1  United States  California  ...   \n",
       "4                     1  United States  California  ...   \n",
       "\n",
       "  Total Extra Data Charges  Total Long Distance Charges  Total Revenue  \\\n",
       "0                       20                         0.00          59.65   \n",
       "1                        0                       390.80        1024.10   \n",
       "2                        0                       203.94        1910.88   \n",
       "3                        0                       494.00        2995.07   \n",
       "4                        0                       234.21        3102.36   \n",
       "\n",
       "   Satisfaction Score  Customer Status Churn Label Churn Score  CLTV  \\\n",
       "0                   3          Churned         Yes          91  5433   \n",
       "1                   3          Churned         Yes          69  5302   \n",
       "2                   2          Churned         Yes          81  3179   \n",
       "3                   2          Churned         Yes          88  5337   \n",
       "4                   2          Churned         Yes          67  2793   \n",
       "\n",
       "    Churn Category                  Churn Reason  \n",
       "0       Competitor  Competitor offered more data  \n",
       "1       Competitor  Competitor made better offer  \n",
       "2       Competitor  Competitor made better offer  \n",
       "3  Dissatisfaction     Limited range of services  \n",
       "4            Price            Extra data charges  \n",
       "\n",
       "[5 rows x 50 columns]"
      ]
     },
     "execution_count": 3,
     "metadata": {},
     "output_type": "execute_result"
    }
   ],
   "source": [
    "df.head()"
   ]
  },
  {
   "cell_type": "code",
   "execution_count": 4,
   "id": "97e80ee2",
   "metadata": {
    "execution": {
     "iopub.execute_input": "2025-07-17T19:16:48.403230Z",
     "iopub.status.busy": "2025-07-17T19:16:48.402476Z",
     "iopub.status.idle": "2025-07-17T19:16:48.406727Z",
     "shell.execute_reply": "2025-07-17T19:16:48.406101Z"
    },
    "papermill": {
     "duration": 0.011555,
     "end_time": "2025-07-17T19:16:48.407910",
     "exception": false,
     "start_time": "2025-07-17T19:16:48.396355",
     "status": "completed"
    },
    "tags": []
   },
   "outputs": [],
   "source": [
    "p1 = 'Offer'\n",
    "p2 = 'Phone Service'\n",
    "p3 = 'Internet Service'\n",
    "p4 = 'Device Protection Plan'\n",
    "p5 = 'Premium Tech Support'\n",
    "\n",
    "cid = 'Customer ID'"
   ]
  },
  {
   "cell_type": "code",
   "execution_count": 5,
   "id": "f5bc3ac4",
   "metadata": {
    "execution": {
     "iopub.execute_input": "2025-07-17T19:16:48.419414Z",
     "iopub.status.busy": "2025-07-17T19:16:48.418884Z",
     "iopub.status.idle": "2025-07-17T19:16:48.441666Z",
     "shell.execute_reply": "2025-07-17T19:16:48.440961Z"
    },
    "papermill": {
     "duration": 0.029881,
     "end_time": "2025-07-17T19:16:48.442965",
     "exception": false,
     "start_time": "2025-07-17T19:16:48.413084",
     "status": "completed"
    },
    "tags": []
   },
   "outputs": [],
   "source": [
    "df['p1'] = df[p1].apply(lambda x: 0 if pd.isnull(x) else 1)\n",
    "df['p2'] = df[p2].apply(lambda x: 1 if x=='Yes' else 0)\n",
    "df['p3'] = df[p3].apply(lambda x: 1 if x=='Yes' else 0)\n",
    "df['p4'] = df[p4].apply(lambda x: 1 if x=='Yes' else 0)\n",
    "df['p5'] = df[p5].apply(lambda x: 1 if x=='Yes' else 0)"
   ]
  },
  {
   "cell_type": "code",
   "execution_count": 6,
   "id": "aea421fa",
   "metadata": {
    "execution": {
     "iopub.execute_input": "2025-07-17T19:16:48.454752Z",
     "iopub.status.busy": "2025-07-17T19:16:48.454083Z",
     "iopub.status.idle": "2025-07-17T19:16:48.554659Z",
     "shell.execute_reply": "2025-07-17T19:16:48.553893Z"
    },
    "papermill": {
     "duration": 0.108032,
     "end_time": "2025-07-17T19:16:48.556305",
     "exception": false,
     "start_time": "2025-07-17T19:16:48.448273",
     "status": "completed"
    },
    "tags": []
   },
   "outputs": [],
   "source": [
    "df['p0'] = df.apply(lambda x: (x['p1']==0) & (x['p2']==0) & (x['p3']==0) & (x['p4']==0) & (x['p5']==0), axis=1)"
   ]
  },
  {
   "cell_type": "code",
   "execution_count": 7,
   "id": "0959278e",
   "metadata": {
    "execution": {
     "iopub.execute_input": "2025-07-17T19:16:48.568759Z",
     "iopub.status.busy": "2025-07-17T19:16:48.568460Z",
     "iopub.status.idle": "2025-07-17T19:16:48.578239Z",
     "shell.execute_reply": "2025-07-17T19:16:48.577580Z"
    },
    "papermill": {
     "duration": 0.017736,
     "end_time": "2025-07-17T19:16:48.579518",
     "exception": false,
     "start_time": "2025-07-17T19:16:48.561782",
     "status": "completed"
    },
    "tags": []
   },
   "outputs": [],
   "source": [
    "p1_array = df['p1'].values\n",
    "p2_array = df['p2'].values\n",
    "p3_array = df['p3'].values\n",
    "p4_array = df['p4'].values\n",
    "p5_array = df['p5'].values\n",
    "p0_array = df['p0'].values\n",
    "p1_count = sum(p1_array)\n",
    "p2_count = sum(p2_array)\n",
    "p3_count = sum(p3_array)\n",
    "p4_count = sum(p4_array)\n",
    "p5_count = sum(p5_array)\n",
    "p0_count = sum(p0_array)"
   ]
  },
  {
   "cell_type": "code",
   "execution_count": 8,
   "id": "419940c7",
   "metadata": {
    "execution": {
     "iopub.execute_input": "2025-07-17T19:16:48.591777Z",
     "iopub.status.busy": "2025-07-17T19:16:48.591053Z",
     "iopub.status.idle": "2025-07-17T19:16:48.596351Z",
     "shell.execute_reply": "2025-07-17T19:16:48.595585Z"
    },
    "papermill": {
     "duration": 0.012725,
     "end_time": "2025-07-17T19:16:48.597665",
     "exception": false,
     "start_time": "2025-07-17T19:16:48.584940",
     "status": "completed"
    },
    "tags": []
   },
   "outputs": [
    {
     "data": {
      "text/plain": [
       "array([0, 1, 1, ..., 0, 0, 0])"
      ]
     },
     "execution_count": 8,
     "metadata": {},
     "output_type": "execute_result"
    }
   ],
   "source": [
    "p1_array"
   ]
  },
  {
   "cell_type": "code",
   "execution_count": 9,
   "id": "aa10273d",
   "metadata": {
    "execution": {
     "iopub.execute_input": "2025-07-17T19:16:48.609418Z",
     "iopub.status.busy": "2025-07-17T19:16:48.608888Z",
     "iopub.status.idle": "2025-07-17T19:16:48.613594Z",
     "shell.execute_reply": "2025-07-17T19:16:48.612984Z"
    },
    "papermill": {
     "duration": 0.011811,
     "end_time": "2025-07-17T19:16:48.614828",
     "exception": false,
     "start_time": "2025-07-17T19:16:48.603017",
     "status": "completed"
    },
    "tags": []
   },
   "outputs": [
    {
     "data": {
      "text/plain": [
       "3166"
      ]
     },
     "execution_count": 9,
     "metadata": {},
     "output_type": "execute_result"
    }
   ],
   "source": [
    "p1_count"
   ]
  },
  {
   "cell_type": "code",
   "execution_count": 10,
   "id": "975e8817",
   "metadata": {
    "execution": {
     "iopub.execute_input": "2025-07-17T19:16:48.626661Z",
     "iopub.status.busy": "2025-07-17T19:16:48.626078Z",
     "iopub.status.idle": "2025-07-17T19:16:48.629482Z",
     "shell.execute_reply": "2025-07-17T19:16:48.628877Z"
    },
    "papermill": {
     "duration": 0.010626,
     "end_time": "2025-07-17T19:16:48.630802",
     "exception": false,
     "start_time": "2025-07-17T19:16:48.620176",
     "status": "completed"
    },
    "tags": []
   },
   "outputs": [],
   "source": [
    "df_len = len(df)"
   ]
  },
  {
   "cell_type": "code",
   "execution_count": 11,
   "id": "cac2e6a1",
   "metadata": {
    "execution": {
     "iopub.execute_input": "2025-07-17T19:16:48.642172Z",
     "iopub.status.busy": "2025-07-17T19:16:48.641934Z",
     "iopub.status.idle": "2025-07-17T19:16:48.646495Z",
     "shell.execute_reply": "2025-07-17T19:16:48.645726Z"
    },
    "papermill": {
     "duration": 0.011762,
     "end_time": "2025-07-17T19:16:48.647748",
     "exception": false,
     "start_time": "2025-07-17T19:16:48.635986",
     "status": "completed"
    },
    "tags": []
   },
   "outputs": [],
   "source": [
    "P = {}\n",
    "P['p1'] = p1_count/df_len\n",
    "P['p2'] = p2_count/df_len\n",
    "P['p3'] = p3_count/df_len\n",
    "P['p4'] = p4_count/df_len\n",
    "P['p5'] = p5_count/df_len\n",
    "P['p0'] = p0_count/df_len"
   ]
  },
  {
   "cell_type": "code",
   "execution_count": 12,
   "id": "851b94a4",
   "metadata": {
    "execution": {
     "iopub.execute_input": "2025-07-17T19:16:48.659210Z",
     "iopub.status.busy": "2025-07-17T19:16:48.658973Z",
     "iopub.status.idle": "2025-07-17T19:16:48.663932Z",
     "shell.execute_reply": "2025-07-17T19:16:48.663292Z"
    },
    "papermill": {
     "duration": 0.012221,
     "end_time": "2025-07-17T19:16:48.665183",
     "exception": false,
     "start_time": "2025-07-17T19:16:48.652962",
     "status": "completed"
    },
    "tags": []
   },
   "outputs": [
    {
     "data": {
      "text/plain": [
       "{'p1': 0.4495243504188556,\n",
       " 'p2': 0.9031662643759761,\n",
       " 'p3': 0.7833309669175067,\n",
       " 'p4': 0.3438875479199205,\n",
       " 'p5': 0.2902172369728809,\n",
       " 'p0': 0.0}"
      ]
     },
     "execution_count": 12,
     "metadata": {},
     "output_type": "execute_result"
    }
   ],
   "source": [
    "P"
   ]
  },
  {
   "cell_type": "code",
   "execution_count": 13,
   "id": "d3d35e3c",
   "metadata": {
    "execution": {
     "iopub.execute_input": "2025-07-17T19:16:48.677336Z",
     "iopub.status.busy": "2025-07-17T19:16:48.676752Z",
     "iopub.status.idle": "2025-07-17T19:16:48.681470Z",
     "shell.execute_reply": "2025-07-17T19:16:48.680727Z"
    },
    "papermill": {
     "duration": 0.011948,
     "end_time": "2025-07-17T19:16:48.682676",
     "exception": false,
     "start_time": "2025-07-17T19:16:48.670728",
     "status": "completed"
    },
    "tags": []
   },
   "outputs": [
    {
     "data": {
      "text/plain": [
       "(7043,)"
      ]
     },
     "execution_count": 13,
     "metadata": {},
     "output_type": "execute_result"
    }
   ],
   "source": [
    "p1_array.shape"
   ]
  },
  {
   "cell_type": "code",
   "execution_count": 14,
   "id": "499f24ee",
   "metadata": {
    "execution": {
     "iopub.execute_input": "2025-07-17T19:16:48.694847Z",
     "iopub.status.busy": "2025-07-17T19:16:48.694342Z",
     "iopub.status.idle": "2025-07-17T19:16:48.699239Z",
     "shell.execute_reply": "2025-07-17T19:16:48.698630Z"
    },
    "papermill": {
     "duration": 0.01241,
     "end_time": "2025-07-17T19:16:48.700479",
     "exception": false,
     "start_time": "2025-07-17T19:16:48.688069",
     "status": "completed"
    },
    "tags": []
   },
   "outputs": [
    {
     "data": {
      "text/plain": [
       "(7043,)"
      ]
     },
     "execution_count": 14,
     "metadata": {},
     "output_type": "execute_result"
    }
   ],
   "source": [
    "p1_array.T.shape"
   ]
  },
  {
   "cell_type": "code",
   "execution_count": 15,
   "id": "b68f98f6",
   "metadata": {
    "execution": {
     "iopub.execute_input": "2025-07-17T19:16:48.712184Z",
     "iopub.status.busy": "2025-07-17T19:16:48.711960Z",
     "iopub.status.idle": "2025-07-17T19:16:48.717231Z",
     "shell.execute_reply": "2025-07-17T19:16:48.716532Z"
    },
    "papermill": {
     "duration": 0.012522,
     "end_time": "2025-07-17T19:16:48.718446",
     "exception": false,
     "start_time": "2025-07-17T19:16:48.705924",
     "status": "completed"
    },
    "tags": []
   },
   "outputs": [
    {
     "data": {
      "text/plain": [
       "array([0, 1, 1, ..., 0, 0, 0])"
      ]
     },
     "execution_count": 15,
     "metadata": {},
     "output_type": "execute_result"
    }
   ],
   "source": [
    "p1_array"
   ]
  },
  {
   "cell_type": "code",
   "execution_count": 16,
   "id": "0f6e0ac7",
   "metadata": {
    "execution": {
     "iopub.execute_input": "2025-07-17T19:16:48.730743Z",
     "iopub.status.busy": "2025-07-17T19:16:48.730423Z",
     "iopub.status.idle": "2025-07-17T19:16:48.735818Z",
     "shell.execute_reply": "2025-07-17T19:16:48.735145Z"
    },
    "papermill": {
     "duration": 0.012944,
     "end_time": "2025-07-17T19:16:48.737070",
     "exception": false,
     "start_time": "2025-07-17T19:16:48.724126",
     "status": "completed"
    },
    "tags": []
   },
   "outputs": [
    {
     "data": {
      "text/plain": [
       "array([[0],\n",
       "       [1],\n",
       "       [1],\n",
       "       ...,\n",
       "       [0],\n",
       "       [0],\n",
       "       [0]])"
      ]
     },
     "execution_count": 16,
     "metadata": {},
     "output_type": "execute_result"
    }
   ],
   "source": [
    "p1_array[:, np.newaxis]"
   ]
  },
  {
   "cell_type": "code",
   "execution_count": 17,
   "id": "4bdffc7a",
   "metadata": {
    "execution": {
     "iopub.execute_input": "2025-07-17T19:16:48.750876Z",
     "iopub.status.busy": "2025-07-17T19:16:48.750573Z",
     "iopub.status.idle": "2025-07-17T19:16:48.755930Z",
     "shell.execute_reply": "2025-07-17T19:16:48.755186Z"
    },
    "papermill": {
     "duration": 0.013346,
     "end_time": "2025-07-17T19:16:48.757145",
     "exception": false,
     "start_time": "2025-07-17T19:16:48.743799",
     "status": "completed"
    },
    "tags": []
   },
   "outputs": [
    {
     "data": {
      "text/plain": [
       "(7043, 1)"
      ]
     },
     "execution_count": 17,
     "metadata": {},
     "output_type": "execute_result"
    }
   ],
   "source": [
    "p1_array[:, np.newaxis].shape"
   ]
  },
  {
   "cell_type": "code",
   "execution_count": 18,
   "id": "5c44832a",
   "metadata": {
    "execution": {
     "iopub.execute_input": "2025-07-17T19:16:48.769857Z",
     "iopub.status.busy": "2025-07-17T19:16:48.769331Z",
     "iopub.status.idle": "2025-07-17T19:16:48.774743Z",
     "shell.execute_reply": "2025-07-17T19:16:48.773995Z"
    },
    "papermill": {
     "duration": 0.013066,
     "end_time": "2025-07-17T19:16:48.775991",
     "exception": false,
     "start_time": "2025-07-17T19:16:48.762925",
     "status": "completed"
    },
    "tags": []
   },
   "outputs": [
    {
     "data": {
      "text/plain": [
       "array([1., 1., 1., ..., 1., 1., 1.])"
      ]
     },
     "execution_count": 18,
     "metadata": {},
     "output_type": "execute_result"
    }
   ],
   "source": [
    "ones_array = np.ones(df_len)\n",
    "ones_array"
   ]
  },
  {
   "cell_type": "code",
   "execution_count": 19,
   "id": "a932f6b4",
   "metadata": {
    "execution": {
     "iopub.execute_input": "2025-07-17T19:16:48.788865Z",
     "iopub.status.busy": "2025-07-17T19:16:48.788297Z",
     "iopub.status.idle": "2025-07-17T19:16:48.793671Z",
     "shell.execute_reply": "2025-07-17T19:16:48.792943Z"
    },
    "papermill": {
     "duration": 0.013037,
     "end_time": "2025-07-17T19:16:48.794926",
     "exception": false,
     "start_time": "2025-07-17T19:16:48.781889",
     "status": "completed"
    },
    "tags": []
   },
   "outputs": [
    {
     "data": {
      "text/plain": [
       "array([[1.],\n",
       "       [1.],\n",
       "       [1.],\n",
       "       ...,\n",
       "       [1.],\n",
       "       [1.],\n",
       "       [1.]])"
      ]
     },
     "execution_count": 19,
     "metadata": {},
     "output_type": "execute_result"
    }
   ],
   "source": [
    "ones_matrix = ones_array[:, np.newaxis]\n",
    "ones_matrix"
   ]
  },
  {
   "cell_type": "code",
   "execution_count": 20,
   "id": "a0024b72",
   "metadata": {
    "execution": {
     "iopub.execute_input": "2025-07-17T19:16:48.807905Z",
     "iopub.status.busy": "2025-07-17T19:16:48.807540Z",
     "iopub.status.idle": "2025-07-17T19:16:48.813526Z",
     "shell.execute_reply": "2025-07-17T19:16:48.812613Z"
    },
    "papermill": {
     "duration": 0.013906,
     "end_time": "2025-07-17T19:16:48.814848",
     "exception": false,
     "start_time": "2025-07-17T19:16:48.800942",
     "status": "completed"
    },
    "tags": []
   },
   "outputs": [
    {
     "data": {
      "text/plain": [
       "array([[1., 1., 1., ..., 1., 1., 1.]])"
      ]
     },
     "execution_count": 20,
     "metadata": {},
     "output_type": "execute_result"
    }
   ],
   "source": [
    "ones_matrix.T"
   ]
  },
  {
   "cell_type": "code",
   "execution_count": 21,
   "id": "2ec55a17",
   "metadata": {
    "execution": {
     "iopub.execute_input": "2025-07-17T19:16:48.828093Z",
     "iopub.status.busy": "2025-07-17T19:16:48.827409Z",
     "iopub.status.idle": "2025-07-17T19:16:49.079758Z",
     "shell.execute_reply": "2025-07-17T19:16:49.078984Z"
    },
    "papermill": {
     "duration": 0.260375,
     "end_time": "2025-07-17T19:16:49.081161",
     "exception": false,
     "start_time": "2025-07-17T19:16:48.820786",
     "status": "completed"
    },
    "tags": []
   },
   "outputs": [
    {
     "data": {
      "text/plain": [
       "array([[0., 0., 0., ..., 0., 0., 0.],\n",
       "       [1., 1., 1., ..., 1., 1., 1.],\n",
       "       [1., 1., 1., ..., 1., 1., 1.],\n",
       "       ...,\n",
       "       [0., 0., 0., ..., 0., 0., 0.],\n",
       "       [0., 0., 0., ..., 0., 0., 0.],\n",
       "       [0., 0., 0., ..., 0., 0., 0.]])"
      ]
     },
     "execution_count": 21,
     "metadata": {},
     "output_type": "execute_result"
    }
   ],
   "source": [
    "p1_array[:, np.newaxis] * (ones_matrix.T)"
   ]
  },
  {
   "cell_type": "code",
   "execution_count": 22,
   "id": "ed7fc33b",
   "metadata": {
    "execution": {
     "iopub.execute_input": "2025-07-17T19:16:49.094078Z",
     "iopub.status.busy": "2025-07-17T19:16:49.093809Z",
     "iopub.status.idle": "2025-07-17T19:16:49.335348Z",
     "shell.execute_reply": "2025-07-17T19:16:49.334560Z"
    },
    "papermill": {
     "duration": 0.249511,
     "end_time": "2025-07-17T19:16:49.336824",
     "exception": false,
     "start_time": "2025-07-17T19:16:49.087313",
     "status": "completed"
    },
    "tags": []
   },
   "outputs": [
    {
     "data": {
      "text/plain": [
       "array([[0., 0., 0., ..., 0., 0., 0.],\n",
       "       [1., 1., 1., ..., 1., 1., 1.],\n",
       "       [1., 1., 1., ..., 1., 1., 1.],\n",
       "       ...,\n",
       "       [0., 0., 0., ..., 0., 0., 0.],\n",
       "       [0., 0., 0., ..., 0., 0., 0.],\n",
       "       [0., 0., 0., ..., 0., 0., 0.]])"
      ]
     },
     "execution_count": 22,
     "metadata": {},
     "output_type": "execute_result"
    }
   ],
   "source": [
    "p1_array[:, np.newaxis] * np.ones(df_len)"
   ]
  },
  {
   "cell_type": "code",
   "execution_count": 23,
   "id": "3f99a21e",
   "metadata": {
    "execution": {
     "iopub.execute_input": "2025-07-17T19:16:49.350406Z",
     "iopub.status.busy": "2025-07-17T19:16:49.350143Z",
     "iopub.status.idle": "2025-07-17T19:16:51.003384Z",
     "shell.execute_reply": "2025-07-17T19:16:51.002531Z"
    },
    "papermill": {
     "duration": 1.661706,
     "end_time": "2025-07-17T19:16:51.004983",
     "exception": false,
     "start_time": "2025-07-17T19:16:49.343277",
     "status": "completed"
    },
    "tags": []
   },
   "outputs": [],
   "source": [
    "ones_array = np.ones(df_len)\n",
    "ones_row_matrix = ones_array[:, np.newaxis].T\n",
    "p1_matrix = (p1_array[:, np.newaxis] * ones_row_matrix)>0\n",
    "p2_matrix = (p2_array[:, np.newaxis] * ones_row_matrix)>0\n",
    "p3_matrix = (p3_array[:, np.newaxis] * ones_row_matrix)>0\n",
    "p4_matrix = (p4_array[:, np.newaxis] * ones_row_matrix)>0\n",
    "p5_matrix = (p5_array[:, np.newaxis] * ones_row_matrix)>0\n",
    "p0_matrix = (p0_array[:, np.newaxis] * ones_row_matrix)>0\n",
    "\n",
    "p_matrix = {}\n",
    "p_matrix[0] = p0_matrix\n",
    "p_matrix[1] = p1_matrix\n",
    "p_matrix[2] = p2_matrix\n",
    "p_matrix[3] = p3_matrix\n",
    "p_matrix[4] = p4_matrix\n",
    "p_matrix[5] = p5_matrix"
   ]
  },
  {
   "cell_type": "code",
   "execution_count": 24,
   "id": "d7676ac1",
   "metadata": {
    "execution": {
     "iopub.execute_input": "2025-07-17T19:16:51.018484Z",
     "iopub.status.busy": "2025-07-17T19:16:51.018045Z",
     "iopub.status.idle": "2025-07-17T19:16:51.656906Z",
     "shell.execute_reply": "2025-07-17T19:16:51.656121Z"
    },
    "papermill": {
     "duration": 0.647065,
     "end_time": "2025-07-17T19:16:51.658354",
     "exception": false,
     "start_time": "2025-07-17T19:16:51.011289",
     "status": "completed"
    },
    "tags": []
   },
   "outputs": [
    {
     "data": {
      "text/plain": [
       "array([[0, 1, 1, ..., 0, 1, 1],\n",
       "       [0, 0, 1, ..., 0, 1, 1],\n",
       "       [0, 0, 0, ..., 0, 1, 0],\n",
       "       ...,\n",
       "       [1, 1, 1, ..., 0, 1, 1],\n",
       "       [0, 0, 0, ..., 0, 0, 0],\n",
       "       [0, 0, 1, ..., 0, 1, 0]])"
      ]
     },
     "execution_count": 24,
     "metadata": {},
     "output_type": "execute_result"
    }
   ],
   "source": [
    "# delta_CLTV_matrix\n",
    "CLTV_array = df['CLTV'].values\n",
    "CLTV_matrix = CLTV_array[:, np.newaxis] * ones_row_matrix\n",
    "delta_CLTV_matrix = CLTV_matrix - CLTV_matrix.T\n",
    "delta_CLTV_matrix = delta_CLTV_matrix>0\n",
    "delta_CLTV_matrix = delta_CLTV_matrix.astype(int)\n",
    "delta_CLTV_matrix"
   ]
  },
  {
   "cell_type": "code",
   "execution_count": 25,
   "id": "60d07d87",
   "metadata": {
    "execution": {
     "iopub.execute_input": "2025-07-17T19:16:51.673200Z",
     "iopub.status.busy": "2025-07-17T19:16:51.672618Z",
     "iopub.status.idle": "2025-07-17T19:16:52.366968Z",
     "shell.execute_reply": "2025-07-17T19:16:52.366081Z"
    },
    "papermill": {
     "duration": 0.703594,
     "end_time": "2025-07-17T19:16:52.368504",
     "exception": false,
     "start_time": "2025-07-17T19:16:51.664910",
     "status": "completed"
    },
    "tags": []
   },
   "outputs": [
    {
     "data": {
      "text/plain": [
       "array([[0, 0, 0, ..., 0, 0, 0],\n",
       "       [1, 0, 1, ..., 1, 0, 0],\n",
       "       [1, 0, 0, ..., 0, 0, 0],\n",
       "       ...,\n",
       "       [1, 0, 1, ..., 0, 0, 0],\n",
       "       [1, 1, 1, ..., 1, 0, 0],\n",
       "       [1, 1, 1, ..., 1, 1, 0]])"
      ]
     },
     "execution_count": 25,
     "metadata": {},
     "output_type": "execute_result"
    }
   ],
   "source": [
    "# delta_ChurnScore_matrix\n",
    "ChurnScore_array = df['Churn Score'].values\n",
    "ChurnScore_matrix = ChurnScore_array[:, np.newaxis] * ones_row_matrix\n",
    "delta_ChurnScore_matrix = ChurnScore_matrix - ChurnScore_matrix.T\n",
    "delta_ChurnScore_matrix = delta_ChurnScore_matrix<0\n",
    "delta_ChurnScore_matrix = delta_ChurnScore_matrix.astype(int)\n",
    "delta_ChurnScore_matrix"
   ]
  },
  {
   "cell_type": "code",
   "execution_count": 26,
   "id": "01c5454b",
   "metadata": {
    "execution": {
     "iopub.execute_input": "2025-07-17T19:16:52.382825Z",
     "iopub.status.busy": "2025-07-17T19:16:52.382127Z",
     "iopub.status.idle": "2025-07-17T19:16:53.079788Z",
     "shell.execute_reply": "2025-07-17T19:16:53.079112Z"
    },
    "papermill": {
     "duration": 0.706148,
     "end_time": "2025-07-17T19:16:53.081163",
     "exception": false,
     "start_time": "2025-07-17T19:16:52.375015",
     "status": "completed"
    },
    "tags": []
   },
   "outputs": [
    {
     "data": {
      "text/plain": [
       "array([[0, 0, 1, ..., 0, 0, 0],\n",
       "       [0, 0, 1, ..., 0, 0, 0],\n",
       "       [0, 0, 0, ..., 0, 0, 0],\n",
       "       ...,\n",
       "       [1, 1, 1, ..., 0, 0, 0],\n",
       "       [1, 1, 1, ..., 0, 0, 0],\n",
       "       [1, 1, 1, ..., 0, 0, 0]])"
      ]
     },
     "execution_count": 26,
     "metadata": {},
     "output_type": "execute_result"
    }
   ],
   "source": [
    "#delta_SatisfactionScore_matrix\n",
    "SatisfactionScore_array = df['Satisfaction Score'].values\n",
    "SatisfactionScore_matrix = SatisfactionScore_array[:, np.newaxis] * ones_row_matrix\n",
    "delta_SatisfactionScore_matrix = SatisfactionScore_matrix - SatisfactionScore_matrix.T\n",
    "delta_SatisfactionScore_matrix = delta_SatisfactionScore_matrix>0\n",
    "delta_SatisfactionScore_matrix = delta_SatisfactionScore_matrix.astype(int)\n",
    "delta_SatisfactionScore_matrix"
   ]
  },
  {
   "cell_type": "code",
   "execution_count": 27,
   "id": "901603df",
   "metadata": {
    "execution": {
     "iopub.execute_input": "2025-07-17T19:16:53.094674Z",
     "iopub.status.busy": "2025-07-17T19:16:53.094408Z",
     "iopub.status.idle": "2025-07-17T19:16:53.098093Z",
     "shell.execute_reply": "2025-07-17T19:16:53.097452Z"
    },
    "papermill": {
     "duration": 0.011713,
     "end_time": "2025-07-17T19:16:53.099299",
     "exception": false,
     "start_time": "2025-07-17T19:16:53.087586",
     "status": "completed"
    },
    "tags": []
   },
   "outputs": [],
   "source": [
    "d = {}\n",
    "d['x'] = delta_CLTV_matrix\n",
    "d['y'] = delta_ChurnScore_matrix\n",
    "d['z'] = delta_SatisfactionScore_matrix"
   ]
  },
  {
   "cell_type": "code",
   "execution_count": 28,
   "id": "3dc4e0d5",
   "metadata": {
    "execution": {
     "iopub.execute_input": "2025-07-17T19:16:53.113319Z",
     "iopub.status.busy": "2025-07-17T19:16:53.113088Z",
     "iopub.status.idle": "2025-07-17T19:17:26.509391Z",
     "shell.execute_reply": "2025-07-17T19:17:26.508522Z"
    },
    "papermill": {
     "duration": 33.405699,
     "end_time": "2025-07-17T19:17:26.511132",
     "exception": false,
     "start_time": "2025-07-17T19:16:53.105433",
     "status": "completed"
    },
    "tags": []
   },
   "outputs": [],
   "source": [
    "count = {}\n",
    "for var in ['x', 'y', 'z']:\n",
    "    D = d[var]\n",
    "    for i in range(6):\n",
    "        count[f\"d{var} ∩ p{i}\"] = np.sum(D & p_matrix[i], axis=0)\n",
    "        P[f\"d{var} ∩ p{i}\"] = count[f\"d{var} ∩ p{i}\"]/df_len\n",
    "        count[f\"d{var} ∩ p{i}\"] = np.where(count[f\"d{var} ∩ p{i}\"]>0, count[f\"d{var} ∩ p{i}\"], -1)\n",
    "        for j in range(6):\n",
    "            count[f\"d{var} ∩ p{i} ∩ p{j}\"] = np.sum(D & p_matrix[i] & p_matrix[j], axis=0)\n",
    "            P[f\"p{j} | d{var} ∩ p{i}\"] = count[f\"d{var} ∩ p{i} ∩ p{j}\"]/count[f\"d{var} ∩ p{i}\"]\n",
    "            #P[f\"p{j} | d{var} ∩ p{i}\"] = np.where(P[f\"p{j} | d{var} ∩ p{i}\"]>0, P[f\"p{j} | d{var} ∩ p{i}\"], 0.5)"
   ]
  },
  {
   "cell_type": "code",
   "execution_count": 29,
   "id": "846bc951",
   "metadata": {
    "execution": {
     "iopub.execute_input": "2025-07-17T19:17:26.525393Z",
     "iopub.status.busy": "2025-07-17T19:17:26.525141Z",
     "iopub.status.idle": "2025-07-17T19:17:26.538726Z",
     "shell.execute_reply": "2025-07-17T19:17:26.538131Z"
    },
    "papermill": {
     "duration": 0.0218,
     "end_time": "2025-07-17T19:17:26.540053",
     "exception": false,
     "start_time": "2025-07-17T19:17:26.518253",
     "status": "completed"
    },
    "tags": []
   },
   "outputs": [],
   "source": [
    "for var in 'xyz':\n",
    "    for i in range(6):\n",
    "        for j in range(6):\n",
    "            if P[f'p{j}']==0:\n",
    "                P[f'd{var} ∩ p{i} | p{j}'] = 0.5 + np.abs(np.random.randn(df_len)*0.01)\n",
    "            else:\n",
    "                P[f'd{var} ∩ p{i} | p{j}'] = P[f\"p{j} | d{var} ∩ p{i}\"]*P[f'd{var} ∩ p{i}'] / P[f'p{j}']\n",
    "                P[f'd{var} ∩ p{i} | p{j}'] = np.where(P[f'd{var} ∩ p{i} | p{j}']>=0, P[f'd{var} ∩ p{i} | p{j}'], 0.5)\n",
    "                P[f'd{var} ∩ p{i} | p{j}'] = P[f'd{var} ∩ p{i} | p{j}']"
   ]
  },
  {
   "cell_type": "code",
   "execution_count": 30,
   "id": "5cbd23c1",
   "metadata": {
    "execution": {
     "iopub.execute_input": "2025-07-17T19:17:26.553431Z",
     "iopub.status.busy": "2025-07-17T19:17:26.553198Z",
     "iopub.status.idle": "2025-07-17T19:17:26.610516Z",
     "shell.execute_reply": "2025-07-17T19:17:26.609908Z"
    },
    "papermill": {
     "duration": 0.065656,
     "end_time": "2025-07-17T19:17:26.612044",
     "exception": false,
     "start_time": "2025-07-17T19:17:26.546388",
     "status": "completed"
    },
    "tags": []
   },
   "outputs": [],
   "source": [
    "for var in 'xyz':\n",
    "    for i in range(6):\n",
    "        for j in range(6):\n",
    "            alpha = np.random.uniform(0, 0.1, df_len)\n",
    "            df[f\"{var.upper()}{i}{j}\"] = P[f'd{var} ∩ p{j} | p{i}']*(1-alpha) + alpha*np.random.uniform(0,1, df_len)"
   ]
  },
  {
   "cell_type": "code",
   "execution_count": 31,
   "id": "6ede021f",
   "metadata": {
    "execution": {
     "iopub.execute_input": "2025-07-17T19:17:26.626086Z",
     "iopub.status.busy": "2025-07-17T19:17:26.625816Z",
     "iopub.status.idle": "2025-07-17T19:17:28.200765Z",
     "shell.execute_reply": "2025-07-17T19:17:28.200086Z"
    },
    "papermill": {
     "duration": 1.583561,
     "end_time": "2025-07-17T19:17:28.202315",
     "exception": false,
     "start_time": "2025-07-17T19:17:26.618754",
     "status": "completed"
    },
    "tags": []
   },
   "outputs": [],
   "source": [
    "df.to_csv(\"/kaggle/working/Data_with_probabilities.csv\", index=None)"
   ]
  }
 ],
 "metadata": {
  "kaggle": {
   "accelerator": "none",
   "dataSources": [
    {
     "datasetId": 7890124,
     "sourceId": 12501522,
     "sourceType": "datasetVersion"
    }
   ],
   "dockerImageVersionId": 31089,
   "isGpuEnabled": false,
   "isInternetEnabled": false,
   "language": "python",
   "sourceType": "notebook"
  },
  "kernelspec": {
   "display_name": "Python 3",
   "language": "python",
   "name": "python3"
  },
  "language_info": {
   "codemirror_mode": {
    "name": "ipython",
    "version": 3
   },
   "file_extension": ".py",
   "mimetype": "text/x-python",
   "name": "python",
   "nbconvert_exporter": "python",
   "pygments_lexer": "ipython3",
   "version": "3.11.13"
  },
  "papermill": {
   "default_parameters": {},
   "duration": 46.736999,
   "end_time": "2025-07-17T19:17:28.627145",
   "environment_variables": {},
   "exception": null,
   "input_path": "__notebook__.ipynb",
   "output_path": "__notebook__.ipynb",
   "parameters": {},
   "start_time": "2025-07-17T19:16:41.890146",
   "version": "2.6.0"
  }
 },
 "nbformat": 4,
 "nbformat_minor": 5
}
